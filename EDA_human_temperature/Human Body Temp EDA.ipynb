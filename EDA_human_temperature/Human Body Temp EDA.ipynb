{
 "cells": [
  {
   "cell_type": "markdown",
   "metadata": {},
   "source": [
    "# What is the True Normal Human Body Temperature? \n",
    "\n",
    "#### Background\n",
    "\n",
    "The mean normal body temperature was held to be 37$^{\\circ}$C or 98.6$^{\\circ}$F for more than 120 years since it was first conceptualized and reported by Carl Wunderlich in a famous 1868 book. But, is this value statistically correct?"
   ]
  },
  {
   "cell_type": "markdown",
   "metadata": {},
   "source": [
    "<h3>Exercises</h3>\n",
    "\n",
    "<p>In this exercise, you will analyze a dataset of human body temperatures and employ the concepts of hypothesis testing, confidence intervals, and statistical significance.</p>\n",
    "\n",
    "<p>Answer the following questions <b>in this notebook below and submit to your Github account</b>.</p> \n",
    "\n",
    "<ol>\n",
    "<li>  Is the distribution of body temperatures normal? \n",
    "    <ul>\n",
    "    <li> Although this is not a requirement for the Central Limit Theorem to hold (read the introduction on Wikipedia's page about the CLT carefully: https://en.wikipedia.org/wiki/Central_limit_theorem), it gives us some peace of mind that the population may also be normally distributed if we assume that this sample is representative of the population.\n",
    "    <li> Think about the way you're going to check for the normality of the distribution. Graphical methods are usually used first, but there are also other ways: https://en.wikipedia.org/wiki/Normality_test\n",
    "    </ul>\n",
    "<li>  Is the sample size large? Are the observations independent?\n",
    "    <ul>\n",
    "    <li> Remember that this is a condition for the Central Limit Theorem, and hence the statistical tests we are using, to apply.\n",
    "    </ul>\n",
    "<li>  Is the true population mean really 98.6 degrees F?\n",
    "    <ul>\n",
    "    <li> First, try a bootstrap hypothesis test.\n",
    "    <li> Now, let's try frequentist statistical testing. Would you use a one-sample or two-sample test? Why?\n",
    "    <li> In this situation, is it appropriate to use the $t$ or $z$ statistic? \n",
    "    <li> Now try using the other test. How is the result be different? Why?\n",
    "    </ul>\n",
    "<li>  Draw a small sample of size 10 from the data and repeat both frequentist tests. \n",
    "    <ul>\n",
    "    <li> Which one is the correct one to use? \n",
    "    <li> What do you notice? What does this tell you about the difference in application of the $t$ and $z$ statistic?\n",
    "    </ul>\n",
    "<li>  At what temperature should we consider someone's temperature to be \"abnormal\"?\n",
    "    <ul>\n",
    "    <li> As in the previous example, try calculating everything using the boostrap approach, as well as the frequentist approach.\n",
    "    <li> Start by computing the margin of error and confidence interval. When calculating the confidence interval, keep in mind that you should use the appropriate formula for one draw, and not N draws.\n",
    "    </ul>\n",
    "<li>  Is there a significant difference between males and females in normal temperature?\n",
    "    <ul>\n",
    "    <li> What testing approach did you use and why?\n",
    "    <li> Write a story with your conclusion in the context of the original problem.\n",
    "    </ul>\n",
    "</ol>\n",
    "\n",
    "You can include written notes in notebook cells using Markdown: \n",
    "   - In the control panel at the top, choose Cell > Cell Type > Markdown\n",
    "   - Markdown syntax: http://nestacms.com/docs/creating-content/markdown-cheat-sheet\n",
    "\n",
    "#### Resources\n",
    "\n",
    "+ Information and data sources: http://www.amstat.org/publications/jse/datasets/normtemp.txt, http://www.amstat.org/publications/jse/jse_data_archive.htm\n",
    "+ Markdown syntax: http://nestacms.com/docs/creating-content/markdown-cheat-sheet\n",
    "\n",
    "****"
   ]
  },
  {
   "cell_type": "code",
   "execution_count": 1,
   "metadata": {},
   "outputs": [
    {
     "name": "stderr",
     "output_type": "stream",
     "text": [
      "/Users/faisalmahmood/anaconda2/lib/python2.7/site-packages/statsmodels/compat/pandas.py:56: FutureWarning: The pandas.core.datetools module is deprecated and will be removed in a future version. Please use the pandas.tseries module instead.\n",
      "  from pandas.core import datetools\n"
     ]
    }
   ],
   "source": [
    "%matplotlib inline\n",
    "\n",
    "import pandas as pd\n",
    "import matplotlib.pyplot as plt\n",
    "import seaborn as sns\n",
    "import numpy as np\n",
    "import statsmodels.api as sm\n",
    "from scipy import stats\n",
    "from __future__ import division\n",
    "\n",
    "df = pd.read_csv('data/human_body_temperature.csv')"
   ]
  },
  {
   "cell_type": "code",
   "execution_count": 2,
   "metadata": {},
   "outputs": [
    {
     "data": {
      "text/html": [
       "<div>\n",
       "<style>\n",
       "    .dataframe thead tr:only-child th {\n",
       "        text-align: right;\n",
       "    }\n",
       "\n",
       "    .dataframe thead th {\n",
       "        text-align: left;\n",
       "    }\n",
       "\n",
       "    .dataframe tbody tr th {\n",
       "        vertical-align: top;\n",
       "    }\n",
       "</style>\n",
       "<table border=\"1\" class=\"dataframe\">\n",
       "  <thead>\n",
       "    <tr style=\"text-align: right;\">\n",
       "      <th></th>\n",
       "      <th>temperature</th>\n",
       "      <th>gender</th>\n",
       "      <th>heart_rate</th>\n",
       "    </tr>\n",
       "  </thead>\n",
       "  <tbody>\n",
       "    <tr>\n",
       "      <th>0</th>\n",
       "      <td>99.3</td>\n",
       "      <td>F</td>\n",
       "      <td>68.0</td>\n",
       "    </tr>\n",
       "    <tr>\n",
       "      <th>1</th>\n",
       "      <td>98.4</td>\n",
       "      <td>F</td>\n",
       "      <td>81.0</td>\n",
       "    </tr>\n",
       "    <tr>\n",
       "      <th>2</th>\n",
       "      <td>97.8</td>\n",
       "      <td>M</td>\n",
       "      <td>73.0</td>\n",
       "    </tr>\n",
       "    <tr>\n",
       "      <th>3</th>\n",
       "      <td>99.2</td>\n",
       "      <td>F</td>\n",
       "      <td>66.0</td>\n",
       "    </tr>\n",
       "    <tr>\n",
       "      <th>4</th>\n",
       "      <td>98.0</td>\n",
       "      <td>F</td>\n",
       "      <td>73.0</td>\n",
       "    </tr>\n",
       "  </tbody>\n",
       "</table>\n",
       "</div>"
      ],
      "text/plain": [
       "   temperature gender  heart_rate\n",
       "0         99.3      F        68.0\n",
       "1         98.4      F        81.0\n",
       "2         97.8      M        73.0\n",
       "3         99.2      F        66.0\n",
       "4         98.0      F        73.0"
      ]
     },
     "execution_count": 2,
     "metadata": {},
     "output_type": "execute_result"
    }
   ],
   "source": [
    "# Your work here.\n",
    "df.head()"
   ]
  },
  {
   "cell_type": "code",
   "execution_count": 3,
   "metadata": {},
   "outputs": [
    {
     "data": {
      "text/plain": [
       "(130, 3)"
      ]
     },
     "execution_count": 3,
     "metadata": {},
     "output_type": "execute_result"
    }
   ],
   "source": [
    "df.shape"
   ]
  },
  {
   "cell_type": "code",
   "execution_count": 4,
   "metadata": {},
   "outputs": [
    {
     "data": {
      "text/plain": [
       "temperature    0\n",
       "gender         0\n",
       "heart_rate     0\n",
       "dtype: int64"
      ]
     },
     "execution_count": 4,
     "metadata": {},
     "output_type": "execute_result"
    }
   ],
   "source": [
    "df.isnull().sum()"
   ]
  },
  {
   "cell_type": "code",
   "execution_count": 5,
   "metadata": {},
   "outputs": [
    {
     "data": {
      "text/plain": [
       "11.401754250991379"
      ]
     },
     "execution_count": 5,
     "metadata": {},
     "output_type": "execute_result"
    }
   ],
   "source": [
    "np.sqrt(len(df))"
   ]
  },
  {
   "cell_type": "code",
   "execution_count": 6,
   "metadata": {
    "collapsed": true
   },
   "outputs": [],
   "source": [
    "temps = df.temperature"
   ]
  },
  {
   "cell_type": "markdown",
   "metadata": {},
   "source": [
    "# *1) Is the distribution of body temperatures normal?*"
   ]
  },
  {
   "cell_type": "code",
   "execution_count": 7,
   "metadata": {},
   "outputs": [
    {
     "data": {
      "image/png": "[encoded data removed]",
      "text/plain": [
       "<matplotlib.figure.Figure at 0x1c13caa310>"
      ]
     },
     "metadata": {},
     "output_type": "display_data"
    }
   ],
   "source": [
    "sns.set(font_scale = 2)\n",
    "_ = plt.rcParams['figure.figsize'] = [16, 9]\n",
    "_ = plt.hist(temps)\n",
    "_ = plt.xlabel('Body temperature ($^\\circ$F)', fontsize = 24)\n",
    "_ = plt.ylabel('Count', fontsize = 24)\n",
    "_ = plt.title('Distribution of Body Temperatures', fontsize = 30)\n",
    "\n",
    "_ = plt.show()"
   ]
  },
  {
   "cell_type": "markdown",
   "metadata": {},
   "source": [
    "**Based on the above histogram, the distribution of body temperatures appears to be close to normal. Further analysis will be done to test the normality of this distribution.**"
   ]
  },
  {
   "cell_type": "code",
   "execution_count": 8,
   "metadata": {},
   "outputs": [
    {
     "data": {
      "image/png": "[encoded data removed]",
      "text/plain": [
       "<matplotlib.figure.Figure at 0x10e402590>"
      ]
     },
     "metadata": {},
     "output_type": "display_data"
    }
   ],
   "source": [
    "_ = sm.qqplot(temps, line = 's')\n",
    "_ = plt.title('Quantile Plot of the Residual values for Body Temperature Data', fontsize = 30)\n",
    "_ = plt.xlabel(\"Theoretical Quantiles\", fontsize = 24)\n",
    "_ = plt.ylabel(\"Sample Quantiles\", fontsize = 24)\n",
    "_ = plt.show()"
   ]
  },
  {
   "cell_type": "markdown",
   "metadata": {},
   "source": [
    "**The quantile plot (also known as the quantile-quantile plot, or Q-Q plot) of the data appears to show a mostly smooth and predictable progression of the residuals, with the possible exceptions of the tail ends. If the data is normally distributed, then its quantile plot will appear as a straight line. **\n",
    "\n",
    "**This plot is further evidence of the data having a distribution close to normal.**"
   ]
  },
  {
   "cell_type": "code",
   "execution_count": 9,
   "metadata": {},
   "outputs": [
    {
     "name": "stdout",
     "output_type": "stream",
     "text": [
      "98.2492307692\n"
     ]
    }
   ],
   "source": [
    "t_mean = np.mean(temps)\n",
    "print t_mean"
   ]
  },
  {
   "cell_type": "code",
   "execution_count": 10,
   "metadata": {},
   "outputs": [
    {
     "name": "stdout",
     "output_type": "stream",
     "text": [
      "0.730357778905\n"
     ]
    }
   ],
   "source": [
    "t_std = np.std(temps)\n",
    "print t_std"
   ]
  },
  {
   "cell_type": "code",
   "execution_count": 11,
   "metadata": {
    "collapsed": true
   },
   "outputs": [],
   "source": [
    "np.random.seed(42)\n",
    "t_samples = np.random.normal(t_mean, t_std, size = 10000)"
   ]
  },
  {
   "cell_type": "code",
   "execution_count": 12,
   "metadata": {
    "collapsed": true
   },
   "outputs": [],
   "source": [
    "def ecdf(data):\n",
    "    \"\"\"Calcluates the Empirical Cumulative Distribution Function (ECDF) for an array of values\"\"\"\n",
    "    n = len(data)\n",
    "    x = np.sort(data)\n",
    "    y = np.arange(1.0, n+1.0) / n\n",
    "    \n",
    "    return x, y"
   ]
  },
  {
   "cell_type": "code",
   "execution_count": 13,
   "metadata": {
    "collapsed": true
   },
   "outputs": [],
   "source": [
    "x_samp, y_samp = ecdf(t_samples)\n",
    "x, y = ecdf(temps)"
   ]
  },
  {
   "cell_type": "code",
   "execution_count": 14,
   "metadata": {},
   "outputs": [
    {
     "data": {
      "image/png": "[encoded data removed]",
      "text/plain": [
       "<matplotlib.figure.Figure at 0x1c1b91a850>"
      ]
     },
     "metadata": {},
     "output_type": "display_data"
    }
   ],
   "source": [
    "_ = plt.plot(x_samp, y_samp)\n",
    "_ = plt.plot(x, y, marker='.', linestyle='none')\n",
    "_ = plt.title('ECDF of Body Temperatures', fontsize = 30)\n",
    "_ = plt.xlabel('Body Temperature ($^\\circ$F)', fontsize = 24)\n",
    "_ = plt.ylabel('CDF', fontsize = 24)\n",
    "\n",
    "_ = plt.show()"
   ]
  },
  {
   "cell_type": "markdown",
   "metadata": {},
   "source": [
    "**The Empirical Cumulative Distribution Function (ECDF) of the data has been plotted above, and it shows the cumulative distribution of the body temperature data, plotted alongside a smooth curve representing a normally distributed random sample of data that was given the same mean and standard deviation as the actual body temperature data. **\n",
    "\n",
    "**The data seems to closely follow the normally distributed curve, so the above plot is further evidence of the body temperature data having a normal distribution.**"
   ]
  },
  {
   "cell_type": "code",
   "execution_count": 15,
   "metadata": {},
   "outputs": [
    {
     "name": "stdout",
     "output_type": "stream",
     "text": [
      "Shapiro-Wilks Test result:\n",
      "Test statistic = 0.987, p-value = 0.233\n",
      "\n",
      "At α = 0.05, the data appears normally distributed, so the null hypothesis should not be rejected.\n"
     ]
    }
   ],
   "source": [
    "stat, p = stats.shapiro(temps)\n",
    "print 'Shapiro-Wilks Test result:' \n",
    "print 'Test statistic = %.3f, p-value = %.3f' % (stat, p) \n",
    "print ''\n",
    "\n",
    "alpha = 0.05\n",
    "if p > alpha:\n",
    "    print('At α = 0.05, the data appears normally distributed, so the null hypothesis should not be rejected.')\n",
    "else:\n",
    "    print('At α = 0.05, the data does not appear normally distributed. Reject the null hypothesis.')"
   ]
  },
  {
   "cell_type": "markdown",
   "metadata": {},
   "source": [
    "**The Shapiro-Wilk test was done on the temperature data to determine whether it is normally distributed. This particular test tends to be effective with relatively small sample sizes, and since the set contains 130 values, the Shapiro-Wilk test seemed to be a reliable option. **\n",
    "\n",
    "**A $\\alpha$ = 0.05, the result of the test was a p-value of 0.233, which suggests that the null hypothesis (which assumes a normal, Gaussian distribution) should not be rejected. Therefore, the data can be assumed to have a normal distribution.**"
   ]
  },
  {
   "cell_type": "markdown",
   "metadata": {
    "collapsed": true
   },
   "source": [
    "# *2) Is the sample size large? Are the observations independent?*"
   ]
  },
  {
   "cell_type": "markdown",
   "metadata": {},
   "source": [
    "**The dataset contains 130 observations, which is large enough for the Central Limit Theorum to be applicable. As a rule of thumb, if samples are taken from a dataset, and then averaged, the sample size should be at least n = 30 for the CLT to be effective. If the observations of original dataset are already normally distributed (which is the case with this assignment's dataset), then even a smaller sample size would be sufficient. **\n",
    "\n",
    "**The observations in this dataset are independent, because each observation consists of an individual person's data, and no one observation provides any information about what another observation will show.**"
   ]
  },
  {
   "cell_type": "markdown",
   "metadata": {},
   "source": [
    "# *3) Is the true population mean really 98.6 degrees F?*\n",
    "\n",
    "- First, try a bootstrap hypothesis test.\n",
    "- Now, let's try frequentist statistical testing. Would you use a one-sample or two-sample test? Why?\n",
    "- In this situation, is it appropriate to use the $t$ or $z$ statistic? \n",
    "- Now try using the other test. How is the result be different? Why?\n"
   ]
  },
  {
   "cell_type": "markdown",
   "metadata": {},
   "source": [
    "**For the bootstrap hypothesis test, the null hypothesis will be the assumption that there is no statistically significant difference between the mean temperature of the dataset (98.2&deg;F) and the assumed population mean temperature (98.6&deg;F). **\n",
    "\n",
    "**The values of the dataset will be shifted to so that its mean matches the assumed population mean of 98.6&deg;F. And then, with that shifted dataset, the bootstrap hypothesis test will generate 10,000 samples of simulated data under the assumption that the null hypothesis is true, and the test statistic will be defined as the bootstrap replicate mean. Since the assumed population mean temperature is higher than the sample mean from the dataset, the p-value will be the percentage of bootstrap samples whose mean is at least as low as the original sample mean, and that value will determine whether the null hypothesis should be rejected. The value of $\\alpha$ will be set to 0.05.**"
   ]
  },
  {
   "cell_type": "code",
   "execution_count": 16,
   "metadata": {
    "collapsed": true
   },
   "outputs": [],
   "source": [
    "# Shifting temp data to match given population mean\n",
    "pop_mean = 98.6 # degrees F\n",
    "temps_shifted = temps - np.mean(temps) + pop_mean"
   ]
  },
  {
   "cell_type": "code",
   "execution_count": 17,
   "metadata": {
    "collapsed": true
   },
   "outputs": [],
   "source": [
    "def bootstrap_replicate_1d(data, func):\n",
    "    return func(np.random.choice(data, size=len(data)))\n",
    "\n",
    "def draw_bs_reps(data, func, size=1):\n",
    "    \"\"\"Draw bootstrap replicates.\"\"\"\n",
    " # Initialize array of bootstrap replicates\n",
    "    bs_replicates = np.empty(shape=size)\n",
    "\n",
    "    # Generate replicates\n",
    "    for i in range(size):\n",
    "        bs_replicates[i] = bootstrap_replicate_1d(data, func)\n",
    "\n",
    "    return bs_replicates"
   ]
  },
  {
   "cell_type": "code",
   "execution_count": 18,
   "metadata": {
    "collapsed": true
   },
   "outputs": [],
   "source": [
    "bs_replicates = draw_bs_reps(temps_shifted, np.mean, size = 10000)"
   ]
  },
  {
   "cell_type": "code",
   "execution_count": 19,
   "metadata": {
    "collapsed": true
   },
   "outputs": [],
   "source": [
    "p = np.sum(bs_replicates <= np.mean(temps))/len(bs_replicates)"
   ]
  },
  {
   "cell_type": "code",
   "execution_count": 20,
   "metadata": {},
   "outputs": [
    {
     "name": "stdout",
     "output_type": "stream",
     "text": [
      "Bootstrap hypothesis test:\n",
      "p-value =  0.0\n",
      "\n",
      "At α = 0.05, a statistically significant difference between the sample mean and the population mean appears to exist.\n",
      "Reject the null hypothesis.\n"
     ]
    }
   ],
   "source": [
    "print 'Bootstrap hypothesis test:' \n",
    "print 'p-value = ', p\n",
    "print ''\n",
    "alpha = 0.05\n",
    "if p > alpha:\n",
    "    print('At α = 0.05, no statistically significant difference between the sample mean temperature and population mean can be found.')\n",
    "    print('The null hypothesis should not be rejected.')\n",
    "else:\n",
    "    print('At α = 0.05, a statistically significant difference between the sample mean and the population mean appears to exist.')\n",
    "    print('Reject the null hypothesis.')"
   ]
  },
  {
   "cell_type": "code",
   "execution_count": 21,
   "metadata": {},
   "outputs": [
    {
     "data": {
      "text/plain": [
       "0"
      ]
     },
     "execution_count": 21,
     "metadata": {},
     "output_type": "execute_result"
    }
   ],
   "source": [
    "np.sum(bs_replicates <= np.mean(temps))"
   ]
  },
  {
   "cell_type": "markdown",
   "metadata": {},
   "source": [
    "** Based on the above bootstrap hypothesis test, a statistically significant difference between the given population mean and the mean derived from the dataset has been found. As shown above, not a single bootstrap replicate mean was equal to or lower than the original sample mean. As a result, the p-value is 0, and the null hypothesis can be rejected. **\n",
    "\n",
    "*****"
   ]
  },
  {
   "cell_type": "markdown",
   "metadata": {
    "collapsed": true
   },
   "source": [
    "**In the frequentist test, a one-sample test would be done, because a single sample is being tested against a population mean. A two-sample test would be used to test two sample means, either between two different groups, or within a single group under two different circumstances. Those conditions do not apply to this problem.**\n",
    "\n",
    "**In this situation, the t-statistic is the appropriate choice, because the standard error of the z-statistic cannot be figured out, since that requires knowing the population standard deviation of the human body temperature in the context of this assignment. For a problem involving proportions, the z-statistic would be a much more reliable choice, since the standard error can be easily calculated. Once again, $\\alpha$ is set to 0.05.**\n",
    "\n",
    "**The following one-sample t-test will test the dataset against the population mean temperature: **"
   ]
  },
  {
   "cell_type": "code",
   "execution_count": 22,
   "metadata": {},
   "outputs": [
    {
     "name": "stdout",
     "output_type": "stream",
     "text": [
      "One-sample t-test result:\n",
      "Test statistic = -5.455, p-value = 0.000\n",
      "\n",
      "At α = 0.05, a statistically significant difference between the sample mean and the population mean appears to exist.\n",
      "Reject the null hypothesis.\n"
     ]
    }
   ],
   "source": [
    "np.random.seed(42)\n",
    "stat, p = stats.ttest_1samp(temps, 98.6)\n",
    "print 'One-sample t-test result:' \n",
    "print 'Test statistic = %.3f, p-value = %.3f' % (stat, p) \n",
    "print ''\n",
    "alpha = 0.05\n",
    "if p > alpha:\n",
    "    print('At α = 0.05, no statistically significant difference between the sample mean temperature and population mean can be found')\n",
    "    print('The null hypothesis should not be rejected.')\n",
    "else:\n",
    "    print('At α = 0.05, a statistically significant difference between the sample mean and the population mean appears to exist.')\n",
    "    print('Reject the null hypothesis.')"
   ]
  },
  {
   "cell_type": "markdown",
   "metadata": {},
   "source": [
    "**For the sake of comparison, here is the z-test, also with $\\alpha$ set to 0.05:**"
   ]
  },
  {
   "cell_type": "code",
   "execution_count": 23,
   "metadata": {},
   "outputs": [
    {
     "name": "stdout",
     "output_type": "stream",
     "text": [
      "One-sample z-test result:\n",
      "Test statistic = -5.455, p-value = 0.000\n",
      "\n",
      "At α = 0.05, a statistically significant difference between the sample mean and the population mean appears to exist.\n",
      "Reject the null hypothesis.\n"
     ]
    }
   ],
   "source": [
    "np.random.seed(42)\n",
    "from statsmodels.stats.weightstats import ztest\n",
    "stat, p = ztest(x1=temps, value= 98.6, alternative= 'two-sided', ddof=1.0)\n",
    "print 'One-sample z-test result:' \n",
    "print 'Test statistic = %.3f, p-value = %.3f' % (stat, p) \n",
    "print ''\n",
    "alpha = 0.05\n",
    "if p > alpha:\n",
    "    print('At α = 0.05, no statistically significant difference between the sample mean temperature and population mean can be found.')\n",
    "    print('The null hypothesis should not be rejected.')\n",
    "else:\n",
    "    print('At α = 0.05, a statistically significant difference between the sample mean and the population mean appears to exist.')\n",
    "    print('Reject the null hypothesis.')"
   ]
  },
  {
   "cell_type": "markdown",
   "metadata": {},
   "source": [
    "**The z-test and t-test had very similar results, most likely because the sample size of the dataset was large enough for the sample standard deviation to be used as a decent approximation of the population standard deviation.**\n",
    "\n",
    "**All of the above tests suggest a statistically significant difference between the sample mean temperature and the population mean. The null hypothesis can be rejected.**"
   ]
  },
  {
   "cell_type": "markdown",
   "metadata": {},
   "source": [
    "# *4) Draw a small sample of size 10 from the data and repeat both frequentist tests.*\n",
    "\n",
    "- Which one is the correct one to use?\n",
    "- What do you notice? What does this tell you about the difference in application of the  $t$  and  $z$  statistic?\n"
   ]
  },
  {
   "cell_type": "markdown",
   "metadata": {},
   "source": [
    "**The correct test to use would be the t-test, for the same reason as the previous problem. A sample mean is being tested against the population mean, without a known population standard deviation. However, this time, the sample size is much smaller, so the differences between the tests may matter more. Again, $\\alpha$ is set to 0.05.**"
   ]
  },
  {
   "cell_type": "code",
   "execution_count": 24,
   "metadata": {},
   "outputs": [
    {
     "data": {
      "text/plain": [
       "array([ 98. ,  98.8,  97.8,  97. ,  97.7,  98.3,  98. ,  97.9,  99. ,  98. ])"
      ]
     },
     "execution_count": 24,
     "metadata": {},
     "output_type": "execute_result"
    }
   ],
   "source": [
    "np.random.seed(42)\n",
    "temps_sample = np.random.choice(temps, 10)\n",
    "temps_sample"
   ]
  },
  {
   "cell_type": "code",
   "execution_count": 25,
   "metadata": {},
   "outputs": [
    {
     "name": "stdout",
     "output_type": "stream",
     "text": [
      "One-sample t-test result:\n",
      "Test statistic = -3.093, p-value = 0.013\n",
      "\n",
      "At α = 0.05, a statistically significant difference between the sample mean and the population mean appears to exist.\n",
      "Reject the null hypothesis.\n"
     ]
    }
   ],
   "source": [
    "np.random.seed(42)\n",
    "stat, p = stats.ttest_1samp(temps_sample, 98.6)\n",
    "print 'One-sample t-test result:' \n",
    "print 'Test statistic = %.3f, p-value = %.3f' % (stat, p) \n",
    "print ''\n",
    "alpha = 0.05\n",
    "if p > alpha:\n",
    "    print('At α = 0.05, no statistically significant difference between the sample mean temperature and population mean can be found.')\n",
    "    print('The null hypothesis should not be rejected.')\n",
    "else:\n",
    "    print('At α = 0.05, a statistically significant difference between the sample mean and the population mean appears to exist.')\n",
    "    print('Reject the null hypothesis.')"
   ]
  },
  {
   "cell_type": "code",
   "execution_count": 26,
   "metadata": {},
   "outputs": [
    {
     "name": "stdout",
     "output_type": "stream",
     "text": [
      "One-sample z-test result:\n",
      "Test statistic = -3.093, p-value = 0.002\n",
      "\n",
      "At α = 0.05, a statistically significant difference between the sample mean and the population mean appears to exist.\n",
      "Reject the null hypothesis.\n"
     ]
    }
   ],
   "source": [
    "np.random.seed(42)\n",
    "from statsmodels.stats.weightstats import ztest\n",
    "stat, p = ztest(x1=temps_sample, value= 98.6, alternative= 'two-sided', ddof=1.0)\n",
    "print 'One-sample z-test result:' \n",
    "print 'Test statistic = %.3f, p-value = %.3f' % (stat, p) \n",
    "print ''\n",
    "alpha = 0.05\n",
    "if p > alpha:\n",
    "    print('At α = 0.05, no statistically significant difference between the sample mean temperature and population mean can be found.')\n",
    "    print('The null hypothesis should not be rejected.')\n",
    "else:\n",
    "    print('At α = 0.05, a statistically significant difference between the sample mean and the population mean appears to exist.')\n",
    "    print('Reject the null hypothesis.')"
   ]
  },
  {
   "cell_type": "markdown",
   "metadata": {},
   "source": [
    "**This time, the t-test and z-test resulted in a nearly identical test statistic, but while the p-values were low enough to reject the null hypothesis, they were noticably higher than the p-values from the previous problem, due to the smaller sample size. The p-values also noticably differed between the t-test and the z-test, which shows that when the sample size is this small, t-distribution and z-distribution can have meaningful differences. With such a small sample size, the sample standard deviation should not be used as an approximation of the population standard deviation.**"
   ]
  },
  {
   "cell_type": "markdown",
   "metadata": {},
   "source": [
    "# * 5) At what temperature should we consider someone's temperature to be \"abnormal\"?*"
   ]
  },
  {
   "cell_type": "markdown",
   "metadata": {},
   "source": [
    "<li> As in the previous example, try calculating everything using the boostrap approach, as well as the frequentist approach.\n",
    "    <li> Start by computing the margin of error and confidence interval. When calculating the confidence interval, keep in mind that you should use the appropriate formula for one draw, and not N draws."
   ]
  },
  {
   "cell_type": "markdown",
   "metadata": {},
   "source": [
    "**This will require the calculation of a confidence interval, using both the bootstrap and frequentist methods. The bootstrap replicates function from problem 3) will be used to form a 95% confidence interval based on bootstrap replicates derived from the dataset.**"
   ]
  },
  {
   "cell_type": "code",
   "execution_count": 27,
   "metadata": {},
   "outputs": [
    {
     "name": "stdout",
     "output_type": "stream",
     "text": [
      "Bootstrap 95% confidence interval = [ 98.12461538  98.37384615] °F\n",
      "Margin of error = +/- 0.124615384615 °F\n"
     ]
    }
   ],
   "source": [
    "np.random.seed(42)\n",
    "bs_replicates_set = draw_bs_reps(temps, np.mean, size = 10000)\n",
    "bootstrap_conf_int = np.percentile(bs_replicates_set, [2.5, 97.5])\n",
    "print 'Bootstrap 95% confidence interval =', bootstrap_conf_int, '°F'\n",
    "print 'Margin of error = +/-', (bootstrap_conf_int[1] - bootstrap_conf_int[0])/2, '°F'"
   ]
  },
  {
   "cell_type": "markdown",
   "metadata": {},
   "source": [
    "**According to the 95% confidence interval that was derived from the bootstrap method as applied to the dataset, any body temperature under 98.12°F or above 98.37°F can be considered abnormal. The true population mean (98.6°F) falls outside of this interval. The margin of error, which is derived from dividing the range of the confidence interval by 2, is +/- 0.1246°F. ** "
   ]
  },
  {
   "cell_type": "code",
   "execution_count": 28,
   "metadata": {},
   "outputs": [
    {
     "name": "stdout",
     "output_type": "stream",
     "text": [
      "Frequentist: 95% confidence interval = (98.12249318821641, 98.375968350245145) °F body temperature\n",
      "Margin of error = +/- 0.126737581014 °F\n"
     ]
    }
   ],
   "source": [
    "np.random.seed(42)\n",
    "freq_conf_int = stats.t.interval(alpha = 0.95, df= 129, loc = t_mean, scale = t_std/np.sqrt(len(temps)))\n",
    "print 'Frequentist: 95% confidence interval =', freq_conf_int, '°F body temperature'\n",
    "print 'Margin of error = +/-', (freq_conf_int[1] - freq_conf_int[0])/2, '°F'"
   ]
  },
  {
   "cell_type": "markdown",
   "metadata": {},
   "source": [
    " **According to the 95% confidence interval that was derived from the frequentist method as applied to the dataset, any body temperature under 98.12°F or above 98.38°F can be considered abnormal. The margin of error is +/- 0.1267°F. **"
   ]
  },
  {
   "cell_type": "markdown",
   "metadata": {},
   "source": [
    "# * 6) Is there a significant difference between males and females in normal temperature?*\n",
    "\n",
    "- What testing approach did you use and why?\n",
    "- Write a story with your conclusion in the context of the original problem."
   ]
  },
  {
   "cell_type": "markdown",
   "metadata": {},
   "source": [
    "** The bootstrap method will be used, and a two-sample hypothesis test will be conducted to determine whether there is a significant difference between the normal temperatures of males and females. This test will be done because it is an efficient way of simulating the collection of even more data, so that the null hypothesis (which assumes that the true mean temparature is equal between both genders) can be tested. **\n",
    "\n",
    "**The test statistic is the difference in mean temperatures between the genders. This particular test will simulate how often the test statistic of the bootstrap replicates is at least as extreme as the original difference of mean temperatures between the genders, under the assumption that the null hypothesis is true. This will be the basis for the p-value, with $\\alpha$ being set to 0.05.**"
   ]
  },
  {
   "cell_type": "code",
   "execution_count": 29,
   "metadata": {
    "collapsed": true
   },
   "outputs": [],
   "source": [
    "females = df.loc[df['gender'] == 'F']\n",
    "females = females.temperature"
   ]
  },
  {
   "cell_type": "code",
   "execution_count": 30,
   "metadata": {
    "collapsed": true
   },
   "outputs": [],
   "source": [
    "males = df.loc[df['gender'] == 'M']\n",
    "males = males.temperature"
   ]
  },
  {
   "cell_type": "code",
   "execution_count": 31,
   "metadata": {
    "collapsed": true
   },
   "outputs": [],
   "source": [
    "diff_means = np.mean(males) - np.mean(females)\n",
    "mean_count = np.mean(df.temperature)\n",
    "males_shifted = males - np.mean(males) + mean_count\n",
    "females_shifted = females - np.mean(females) + mean_count"
   ]
  },
  {
   "cell_type": "code",
   "execution_count": 32,
   "metadata": {},
   "outputs": [
    {
     "name": "stdout",
     "output_type": "stream",
     "text": [
      "Bootstrap two-sample hypothesis test:\n",
      "p-value = 0.9892\n",
      "\n",
      "At α = 0.05, no statistically significant difference between the mean temperature between males and females can be found.\n",
      "The null hypothesis should not be rejected.\n"
     ]
    }
   ],
   "source": [
    "bs_reps_males = draw_bs_reps(males_shifted,\n",
    "                       np.mean, size=10000)\n",
    "bs_reps_females = draw_bs_reps(females_shifted,\n",
    "                       np.mean, size=10000)\n",
    "bs_replicates = bs_reps_males - bs_reps_females\n",
    "\n",
    "p = np.sum(bs_replicates >= diff_means) / len(bs_replicates)\n",
    "print 'Bootstrap two-sample hypothesis test:'\n",
    "print 'p-value =', p\n",
    "print ''\n",
    "alpha = 0.05\n",
    "if p > alpha:\n",
    "    print('At α = 0.05, no statistically significant difference between the mean temperature between males and females can be found.')\n",
    "    print('The null hypothesis should not be rejected.')\n",
    "else:\n",
    "    print('At α = 0.05, a statistically significant difference between the mean temperature between males and females appears to exist.')\n",
    "    print('Reject the null hypothesis.')"
   ]
  },
  {
   "cell_type": "markdown",
   "metadata": {},
   "source": [
    "** The p-value is 0.9883, which means that the vast majority of bootstrap replicates had a test statistic more extreme than the original difference in temperature means from the dataset. Therefore, the null hypothesis should not be rejected, and not enough evidence exists to suggest a statistically significant difference in temperature based on gender. **"
   ]
  },
  {
   "cell_type": "code",
   "execution_count": null,
   "metadata": {
    "collapsed": true
   },
   "outputs": [],
   "source": []
  },
  {
   "cell_type": "markdown",
   "metadata": {
    "collapsed": true
   },
   "source": []
  }
 ],
 "metadata": {
  "kernelspec": {
   "display_name": "Python 2",
   "language": "python",
   "name": "python2"
  },
  "language_info": {
   "codemirror_mode": {
    "name": "ipython",
    "version": 2
   },
   "file_extension": ".py",
   "mimetype": "text/x-python",
   "name": "python",
   "nbconvert_exporter": "python",
   "pygments_lexer": "ipython2",
   "version": "2.7.13"
  }
 },
 "nbformat": 4,
 "nbformat_minor": 1
}
