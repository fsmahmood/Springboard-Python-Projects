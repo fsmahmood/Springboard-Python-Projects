{
 "cells": [
  {
   "cell_type": "markdown",
   "metadata": {},
   "source": [
    "# Data Wrangling Report\n",
    "\n",
    "Two sets of data were obtained for this project, each of them with data ranging from 2005 to 2017. One set, obtained from the Environmental Protection Agency (EPA), consisted of air quality data that had hourly ozone concentrations for a measuring station in Essex, MD. The other set, obtained from the National Oceanic and Atmospheric Administration (NOAA), consisted of hourly weather observations for Martin State Airport in Maryland, which located 3 miles from Essex. \n",
    "\n",
    "The objective of this data wrangling process was to ensure that for both datasets, observations at each hour would be available for the duration of the time period being analyzed, so that they can be merged into one dataframe containing both the measured ozone levels and the weather observations for each hour.\n",
    "\n",
    "### Weather data\n",
    "\n",
    "The first step was to import the necessary packages for this process."
   ]
  },
  {
   "cell_type": "code",
   "execution_count": 1,
   "metadata": {
    "collapsed": true
   },
   "outputs": [],
   "source": [
    "#Import packages\n",
    "%matplotlib inline \n",
    "\n",
    "import numpy as np\n",
    "import pandas as pd\n",
    "import scipy.stats as stats\n",
    "import matplotlib.pyplot as plt\n",
    "import sklearn\n",
    "import datetime\n",
    "import pickle"
   ]
  },
  {
   "cell_type": "markdown",
   "metadata": {},
   "source": [
    "Next, the weather dataset was uploaded to the Jupyter notebook as a dataframe. The appropriate delimiter was used so that the dataframe can be recognized."
   ]
  },
  {
   "cell_type": "code",
   "execution_count": 2,
   "metadata": {
    "collapsed": true
   },
   "outputs": [],
   "source": [
    "#Upload weather data as dataframe\n",
    "wx = pd.read_csv('Martin_st_hourly_obs.txt', delim_whitespace = True, \n",
    "                 low_memory=False)"
   ]
  },
  {
   "cell_type": "markdown",
   "metadata": {},
   "source": [
    "As seen below, the dataframe is very messy, with many variables that are uneecessary for the analysis. There were 33 columns and 165,778 rows in this set. A great deal of cleaning was necessary."
   ]
  },
  {
   "cell_type": "code",
   "execution_count": 3,
   "metadata": {},
   "outputs": [
    {
     "data": {
      "text/html": [
       "<div>\n",
       "<style>\n",
       "    .dataframe thead tr:only-child th {\n",
       "        text-align: right;\n",
       "    }\n",
       "\n",
       "    .dataframe thead th {\n",
       "        text-align: left;\n",
       "    }\n",
       "\n",
       "    .dataframe tbody tr th {\n",
       "        vertical-align: top;\n",
       "    }\n",
       "</style>\n",
       "<table border=\"1\" class=\"dataframe\">\n",
       "  <thead>\n",
       "    <tr style=\"text-align: right;\">\n",
       "      <th></th>\n",
       "      <th>USAF</th>\n",
       "      <th>WBAN</th>\n",
       "      <th>YR--MODAHRMN</th>\n",
       "      <th>DIR</th>\n",
       "      <th>SPD</th>\n",
       "      <th>GUS</th>\n",
       "      <th>CLG</th>\n",
       "      <th>SKC</th>\n",
       "      <th>L</th>\n",
       "      <th>M</th>\n",
       "      <th>...</th>\n",
       "      <th>SLP</th>\n",
       "      <th>ALT</th>\n",
       "      <th>STP</th>\n",
       "      <th>MAX</th>\n",
       "      <th>MIN</th>\n",
       "      <th>PCP01</th>\n",
       "      <th>PCP06</th>\n",
       "      <th>PCP24</th>\n",
       "      <th>PCPXX</th>\n",
       "      <th>SD</th>\n",
       "    </tr>\n",
       "  </thead>\n",
       "  <tbody>\n",
       "    <tr>\n",
       "      <th>0</th>\n",
       "      <td>724067</td>\n",
       "      <td>93744</td>\n",
       "      <td>200601010000</td>\n",
       "      <td>***</td>\n",
       "      <td>0</td>\n",
       "      <td>***</td>\n",
       "      <td>79</td>\n",
       "      <td>BKN</td>\n",
       "      <td>*</td>\n",
       "      <td>*</td>\n",
       "      <td>...</td>\n",
       "      <td>******</td>\n",
       "      <td>29.83</td>\n",
       "      <td>******</td>\n",
       "      <td>***</td>\n",
       "      <td>***</td>\n",
       "      <td>*****</td>\n",
       "      <td>*****</td>\n",
       "      <td>*****</td>\n",
       "      <td>*****</td>\n",
       "      <td>**</td>\n",
       "    </tr>\n",
       "    <tr>\n",
       "      <th>1</th>\n",
       "      <td>724067</td>\n",
       "      <td>93744</td>\n",
       "      <td>200601010045</td>\n",
       "      <td>***</td>\n",
       "      <td>0</td>\n",
       "      <td>***</td>\n",
       "      <td>70</td>\n",
       "      <td>BKN</td>\n",
       "      <td>*</td>\n",
       "      <td>*</td>\n",
       "      <td>...</td>\n",
       "      <td>******</td>\n",
       "      <td>29.84</td>\n",
       "      <td>1009.7</td>\n",
       "      <td>***</td>\n",
       "      <td>***</td>\n",
       "      <td>*****</td>\n",
       "      <td>*****</td>\n",
       "      <td>*****</td>\n",
       "      <td>*****</td>\n",
       "      <td>**</td>\n",
       "    </tr>\n",
       "    <tr>\n",
       "      <th>2</th>\n",
       "      <td>724067</td>\n",
       "      <td>93744</td>\n",
       "      <td>200601010155</td>\n",
       "      <td>***</td>\n",
       "      <td>0</td>\n",
       "      <td>***</td>\n",
       "      <td>80</td>\n",
       "      <td>OVC</td>\n",
       "      <td>*</td>\n",
       "      <td>*</td>\n",
       "      <td>...</td>\n",
       "      <td>******</td>\n",
       "      <td>29.84</td>\n",
       "      <td>1009.7</td>\n",
       "      <td>***</td>\n",
       "      <td>***</td>\n",
       "      <td>*****</td>\n",
       "      <td>*****</td>\n",
       "      <td>*****</td>\n",
       "      <td>*****</td>\n",
       "      <td>**</td>\n",
       "    </tr>\n",
       "    <tr>\n",
       "      <th>3</th>\n",
       "      <td>724067</td>\n",
       "      <td>93744</td>\n",
       "      <td>200601011046</td>\n",
       "      <td>***</td>\n",
       "      <td>***</td>\n",
       "      <td>***</td>\n",
       "      <td>60</td>\n",
       "      <td>***</td>\n",
       "      <td>*</td>\n",
       "      <td>*</td>\n",
       "      <td>...</td>\n",
       "      <td>******</td>\n",
       "      <td>29.98</td>\n",
       "      <td>1014.4</td>\n",
       "      <td>***</td>\n",
       "      <td>***</td>\n",
       "      <td>*****</td>\n",
       "      <td>*****</td>\n",
       "      <td>*****</td>\n",
       "      <td>*****</td>\n",
       "      <td>**</td>\n",
       "    </tr>\n",
       "    <tr>\n",
       "      <th>4</th>\n",
       "      <td>724067</td>\n",
       "      <td>93744</td>\n",
       "      <td>200601011145</td>\n",
       "      <td>320</td>\n",
       "      <td>5</td>\n",
       "      <td>***</td>\n",
       "      <td>50</td>\n",
       "      <td>BKN</td>\n",
       "      <td>*</td>\n",
       "      <td>*</td>\n",
       "      <td>...</td>\n",
       "      <td>******</td>\n",
       "      <td>30.01</td>\n",
       "      <td>1015.4</td>\n",
       "      <td>***</td>\n",
       "      <td>***</td>\n",
       "      <td>*****</td>\n",
       "      <td>*****</td>\n",
       "      <td>*****</td>\n",
       "      <td>*****</td>\n",
       "      <td>**</td>\n",
       "    </tr>\n",
       "  </tbody>\n",
       "</table>\n",
       "<p>5 rows × 33 columns</p>\n",
       "</div>"
      ],
      "text/plain": [
       "     USAF   WBAN  YR--MODAHRMN  DIR  SPD  GUS CLG  SKC  L  M ...     SLP  \\\n",
       "0  724067  93744  200601010000  ***    0  ***  79  BKN  *  * ...  ******   \n",
       "1  724067  93744  200601010045  ***    0  ***  70  BKN  *  * ...  ******   \n",
       "2  724067  93744  200601010155  ***    0  ***  80  OVC  *  * ...  ******   \n",
       "3  724067  93744  200601011046  ***  ***  ***  60  ***  *  * ...  ******   \n",
       "4  724067  93744  200601011145  320    5  ***  50  BKN  *  * ...  ******   \n",
       "\n",
       "     ALT     STP  MAX  MIN  PCP01  PCP06  PCP24  PCPXX  SD  \n",
       "0  29.83  ******  ***  ***  *****  *****  *****  *****  **  \n",
       "1  29.84  1009.7  ***  ***  *****  *****  *****  *****  **  \n",
       "2  29.84  1009.7  ***  ***  *****  *****  *****  *****  **  \n",
       "3  29.98  1014.4  ***  ***  *****  *****  *****  *****  **  \n",
       "4  30.01  1015.4  ***  ***  *****  *****  *****  *****  **  \n",
       "\n",
       "[5 rows x 33 columns]"
      ]
     },
     "execution_count": 3,
     "metadata": {},
     "output_type": "execute_result"
    }
   ],
   "source": [
    "wx.head()"
   ]
  },
  {
   "cell_type": "code",
   "execution_count": 4,
   "metadata": {},
   "outputs": [
    {
     "data": {
      "text/plain": [
       "(165778, 33)"
      ]
     },
     "execution_count": 4,
     "metadata": {},
     "output_type": "execute_result"
    }
   ],
   "source": [
    "wx.shape"
   ]
  },
  {
   "cell_type": "markdown",
   "metadata": {},
   "source": [
    "As shown below, the only weather variables being chosen for this analysis (along with time) were wind speed, visibility, temperature, dew point, and atmospheric pressure (measured in millibars)."
   ]
  },
  {
   "cell_type": "code",
   "execution_count": 5,
   "metadata": {},
   "outputs": [
    {
     "data": {
      "text/html": [
       "<div>\n",
       "<style>\n",
       "    .dataframe thead tr:only-child th {\n",
       "        text-align: right;\n",
       "    }\n",
       "\n",
       "    .dataframe thead th {\n",
       "        text-align: left;\n",
       "    }\n",
       "\n",
       "    .dataframe tbody tr th {\n",
       "        vertical-align: top;\n",
       "    }\n",
       "</style>\n",
       "<table border=\"1\" class=\"dataframe\">\n",
       "  <thead>\n",
       "    <tr style=\"text-align: right;\">\n",
       "      <th></th>\n",
       "      <th>YR--MODAHRMN</th>\n",
       "      <th>SPD</th>\n",
       "      <th>VSB</th>\n",
       "      <th>TEMP</th>\n",
       "      <th>DEWP</th>\n",
       "      <th>STP</th>\n",
       "    </tr>\n",
       "  </thead>\n",
       "  <tbody>\n",
       "    <tr>\n",
       "      <th>0</th>\n",
       "      <td>200601010000</td>\n",
       "      <td>0</td>\n",
       "      <td>5.0</td>\n",
       "      <td>36</td>\n",
       "      <td>36</td>\n",
       "      <td>******</td>\n",
       "    </tr>\n",
       "    <tr>\n",
       "      <th>1</th>\n",
       "      <td>200601010045</td>\n",
       "      <td>0</td>\n",
       "      <td>5.0</td>\n",
       "      <td>36</td>\n",
       "      <td>36</td>\n",
       "      <td>1009.7</td>\n",
       "    </tr>\n",
       "    <tr>\n",
       "      <th>2</th>\n",
       "      <td>200601010155</td>\n",
       "      <td>0</td>\n",
       "      <td>5.0</td>\n",
       "      <td>36</td>\n",
       "      <td>34</td>\n",
       "      <td>1009.7</td>\n",
       "    </tr>\n",
       "    <tr>\n",
       "      <th>3</th>\n",
       "      <td>200601011046</td>\n",
       "      <td>***</td>\n",
       "      <td>****</td>\n",
       "      <td>41</td>\n",
       "      <td>32</td>\n",
       "      <td>1014.4</td>\n",
       "    </tr>\n",
       "    <tr>\n",
       "      <th>4</th>\n",
       "      <td>200601011145</td>\n",
       "      <td>5</td>\n",
       "      <td>10.0</td>\n",
       "      <td>41</td>\n",
       "      <td>32</td>\n",
       "      <td>1015.4</td>\n",
       "    </tr>\n",
       "  </tbody>\n",
       "</table>\n",
       "</div>"
      ],
      "text/plain": [
       "   YR--MODAHRMN  SPD   VSB TEMP DEWP     STP\n",
       "0  200601010000    0   5.0   36   36  ******\n",
       "1  200601010045    0   5.0   36   36  1009.7\n",
       "2  200601010155    0   5.0   36   34  1009.7\n",
       "3  200601011046  ***  ****   41   32  1014.4\n",
       "4  200601011145    5  10.0   41   32  1015.4"
      ]
     },
     "execution_count": 5,
     "metadata": {},
     "output_type": "execute_result"
    }
   ],
   "source": [
    "#Select relevant columns\n",
    "wx = wx.loc[:, ['YR--MODAHRMN', 'SPD', 'VSB', 'TEMP', 'DEWP', 'STP']]\n",
    "wx.head()"
   ]
  },
  {
   "cell_type": "markdown",
   "metadata": {},
   "source": [
    "Other than the `'YR--MODAHRMN'` column (with a clumsy name for the datatime column), the columns appeared to show no clear datatype. All of the following variables are numeric in nature, so they were converted using the `pd.to_numeric()` function, with the errors coerced into `NaN` values. Also, the `'YR--MODAHRMN'` column was renamed to `'TIME'`, and set as the DatetimeIndex for this dataframe."
   ]
  },
  {
   "cell_type": "code",
   "execution_count": 6,
   "metadata": {},
   "outputs": [
    {
     "name": "stdout",
     "output_type": "stream",
     "text": [
      "<class 'pandas.core.frame.DataFrame'>\n",
      "RangeIndex: 165778 entries, 0 to 165777\n",
      "Data columns (total 6 columns):\n",
      "YR--MODAHRMN    165778 non-null int64\n",
      "SPD             165778 non-null object\n",
      "VSB             165778 non-null object\n",
      "TEMP            165778 non-null object\n",
      "DEWP            165778 non-null object\n",
      "STP             165778 non-null object\n",
      "dtypes: int64(1), object(5)\n",
      "memory usage: 7.6+ MB\n"
     ]
    }
   ],
   "source": [
    "wx.info()"
   ]
  },
  {
   "cell_type": "code",
   "execution_count": 7,
   "metadata": {
    "collapsed": true
   },
   "outputs": [],
   "source": [
    "#Rename first column\n",
    "wx.rename(columns = {'YR--MODAHRMN':'TIME'}, inplace = True)\n",
    "#Convert to datetime,\n",
    "wx['TIME'] = pd.to_datetime(wx.TIME, format = \"%Y%m%d%H%M\")\n",
    "#Set index\n",
    "wx.set_index('TIME', inplace = True)\n",
    "#Convert data of all remaining columns to floats\n",
    "wx = wx.apply(pd.to_numeric, errors='coerce')"
   ]
  },
  {
   "cell_type": "markdown",
   "metadata": {
    "collapsed": true
   },
   "source": [
    "As a result of these changes, all variables were converted to floats, with the missing values now being recognized as `NaN`. They were counted using the `wx.isnull().sum()` function"
   ]
  },
  {
   "cell_type": "code",
   "execution_count": 8,
   "metadata": {},
   "outputs": [
    {
     "name": "stdout",
     "output_type": "stream",
     "text": [
      "<class 'pandas.core.frame.DataFrame'>\n",
      "DatetimeIndex: 165778 entries, 2006-01-01 00:00:00 to 2017-12-31 23:45:00\n",
      "Data columns (total 5 columns):\n",
      "SPD     165370 non-null float64\n",
      "VSB     165182 non-null float64\n",
      "TEMP    163431 non-null float64\n",
      "DEWP    163287 non-null float64\n",
      "STP     145852 non-null float64\n",
      "dtypes: float64(5)\n",
      "memory usage: 7.6 MB\n"
     ]
    }
   ],
   "source": [
    "wx.info()"
   ]
  },
  {
   "cell_type": "code",
   "execution_count": 9,
   "metadata": {},
   "outputs": [
    {
     "data": {
      "text/html": [
       "<div>\n",
       "<style>\n",
       "    .dataframe thead tr:only-child th {\n",
       "        text-align: right;\n",
       "    }\n",
       "\n",
       "    .dataframe thead th {\n",
       "        text-align: left;\n",
       "    }\n",
       "\n",
       "    .dataframe tbody tr th {\n",
       "        vertical-align: top;\n",
       "    }\n",
       "</style>\n",
       "<table border=\"1\" class=\"dataframe\">\n",
       "  <thead>\n",
       "    <tr style=\"text-align: right;\">\n",
       "      <th></th>\n",
       "      <th>SPD</th>\n",
       "      <th>VSB</th>\n",
       "      <th>TEMP</th>\n",
       "      <th>DEWP</th>\n",
       "      <th>STP</th>\n",
       "    </tr>\n",
       "    <tr>\n",
       "      <th>TIME</th>\n",
       "      <th></th>\n",
       "      <th></th>\n",
       "      <th></th>\n",
       "      <th></th>\n",
       "      <th></th>\n",
       "    </tr>\n",
       "  </thead>\n",
       "  <tbody>\n",
       "    <tr>\n",
       "      <th>2006-01-01 00:00:00</th>\n",
       "      <td>0.0</td>\n",
       "      <td>5.0</td>\n",
       "      <td>36.0</td>\n",
       "      <td>36.0</td>\n",
       "      <td>NaN</td>\n",
       "    </tr>\n",
       "    <tr>\n",
       "      <th>2006-01-01 00:45:00</th>\n",
       "      <td>0.0</td>\n",
       "      <td>5.0</td>\n",
       "      <td>36.0</td>\n",
       "      <td>36.0</td>\n",
       "      <td>1009.7</td>\n",
       "    </tr>\n",
       "    <tr>\n",
       "      <th>2006-01-01 01:55:00</th>\n",
       "      <td>0.0</td>\n",
       "      <td>5.0</td>\n",
       "      <td>36.0</td>\n",
       "      <td>34.0</td>\n",
       "      <td>1009.7</td>\n",
       "    </tr>\n",
       "    <tr>\n",
       "      <th>2006-01-01 10:46:00</th>\n",
       "      <td>NaN</td>\n",
       "      <td>NaN</td>\n",
       "      <td>41.0</td>\n",
       "      <td>32.0</td>\n",
       "      <td>1014.4</td>\n",
       "    </tr>\n",
       "    <tr>\n",
       "      <th>2006-01-01 11:45:00</th>\n",
       "      <td>5.0</td>\n",
       "      <td>10.0</td>\n",
       "      <td>41.0</td>\n",
       "      <td>32.0</td>\n",
       "      <td>1015.4</td>\n",
       "    </tr>\n",
       "  </tbody>\n",
       "</table>\n",
       "</div>"
      ],
      "text/plain": [
       "                     SPD   VSB  TEMP  DEWP     STP\n",
       "TIME                                              \n",
       "2006-01-01 00:00:00  0.0   5.0  36.0  36.0     NaN\n",
       "2006-01-01 00:45:00  0.0   5.0  36.0  36.0  1009.7\n",
       "2006-01-01 01:55:00  0.0   5.0  36.0  34.0  1009.7\n",
       "2006-01-01 10:46:00  NaN   NaN  41.0  32.0  1014.4\n",
       "2006-01-01 11:45:00  5.0  10.0  41.0  32.0  1015.4"
      ]
     },
     "execution_count": 9,
     "metadata": {},
     "output_type": "execute_result"
    }
   ],
   "source": [
    "wx.head()"
   ]
  },
  {
   "cell_type": "code",
   "execution_count": 10,
   "metadata": {},
   "outputs": [
    {
     "name": "stdout",
     "output_type": "stream",
     "text": [
      "Number of missing values for each variable:\n",
      "SPD       408\n",
      "VSB       596\n",
      "TEMP     2347\n",
      "DEWP     2491\n",
      "STP     19926\n",
      "dtype: int64\n"
     ]
    }
   ],
   "source": [
    "#Count missing values\n",
    "print 'Number of missing values for each variable:'\n",
    "print(wx.isnull().sum())"
   ]
  },
  {
   "cell_type": "markdown",
   "metadata": {},
   "source": [
    "In this dataset, the Greenwich time (GMT/UTC) was used for the observations, so they were recognized as such with `tz_localize()`, and then converted to local time (US/Eastern) using `tz_convert()`. The times were then converted back to naive times with `tz_localize(None)`."
   ]
  },
  {
   "cell_type": "code",
   "execution_count": 11,
   "metadata": {},
   "outputs": [
    {
     "data": {
      "text/html": [
       "<div>\n",
       "<style>\n",
       "    .dataframe thead tr:only-child th {\n",
       "        text-align: right;\n",
       "    }\n",
       "\n",
       "    .dataframe thead th {\n",
       "        text-align: left;\n",
       "    }\n",
       "\n",
       "    .dataframe tbody tr th {\n",
       "        vertical-align: top;\n",
       "    }\n",
       "</style>\n",
       "<table border=\"1\" class=\"dataframe\">\n",
       "  <thead>\n",
       "    <tr style=\"text-align: right;\">\n",
       "      <th></th>\n",
       "      <th>SPD</th>\n",
       "      <th>VSB</th>\n",
       "      <th>TEMP</th>\n",
       "      <th>DEWP</th>\n",
       "      <th>STP</th>\n",
       "    </tr>\n",
       "    <tr>\n",
       "      <th>TIME</th>\n",
       "      <th></th>\n",
       "      <th></th>\n",
       "      <th></th>\n",
       "      <th></th>\n",
       "      <th></th>\n",
       "    </tr>\n",
       "  </thead>\n",
       "  <tbody>\n",
       "    <tr>\n",
       "      <th>2005-12-31 19:00:00-05:00</th>\n",
       "      <td>0.0</td>\n",
       "      <td>5.0</td>\n",
       "      <td>36.0</td>\n",
       "      <td>36.0</td>\n",
       "      <td>NaN</td>\n",
       "    </tr>\n",
       "    <tr>\n",
       "      <th>2005-12-31 19:45:00-05:00</th>\n",
       "      <td>0.0</td>\n",
       "      <td>5.0</td>\n",
       "      <td>36.0</td>\n",
       "      <td>36.0</td>\n",
       "      <td>1009.7</td>\n",
       "    </tr>\n",
       "    <tr>\n",
       "      <th>2005-12-31 20:55:00-05:00</th>\n",
       "      <td>0.0</td>\n",
       "      <td>5.0</td>\n",
       "      <td>36.0</td>\n",
       "      <td>34.0</td>\n",
       "      <td>1009.7</td>\n",
       "    </tr>\n",
       "    <tr>\n",
       "      <th>2006-01-01 05:46:00-05:00</th>\n",
       "      <td>NaN</td>\n",
       "      <td>NaN</td>\n",
       "      <td>41.0</td>\n",
       "      <td>32.0</td>\n",
       "      <td>1014.4</td>\n",
       "    </tr>\n",
       "    <tr>\n",
       "      <th>2006-01-01 06:45:00-05:00</th>\n",
       "      <td>5.0</td>\n",
       "      <td>10.0</td>\n",
       "      <td>41.0</td>\n",
       "      <td>32.0</td>\n",
       "      <td>1015.4</td>\n",
       "    </tr>\n",
       "  </tbody>\n",
       "</table>\n",
       "</div>"
      ],
      "text/plain": [
       "                           SPD   VSB  TEMP  DEWP     STP\n",
       "TIME                                                    \n",
       "2005-12-31 19:00:00-05:00  0.0   5.0  36.0  36.0     NaN\n",
       "2005-12-31 19:45:00-05:00  0.0   5.0  36.0  36.0  1009.7\n",
       "2005-12-31 20:55:00-05:00  0.0   5.0  36.0  34.0  1009.7\n",
       "2006-01-01 05:46:00-05:00  NaN   NaN  41.0  32.0  1014.4\n",
       "2006-01-01 06:45:00-05:00  5.0  10.0  41.0  32.0  1015.4"
      ]
     },
     "execution_count": 11,
     "metadata": {},
     "output_type": "execute_result"
    }
   ],
   "source": [
    "#Convert timezone from GMT to Eastern US\n",
    "wx = wx.tz_localize(tz='GMT')\n",
    "wx = wx.tz_convert(tz='US/Eastern')\n",
    "\n",
    "wx.head()"
   ]
  },
  {
   "cell_type": "code",
   "execution_count": 12,
   "metadata": {},
   "outputs": [
    {
     "data": {
      "text/html": [
       "<div>\n",
       "<style>\n",
       "    .dataframe thead tr:only-child th {\n",
       "        text-align: right;\n",
       "    }\n",
       "\n",
       "    .dataframe thead th {\n",
       "        text-align: left;\n",
       "    }\n",
       "\n",
       "    .dataframe tbody tr th {\n",
       "        vertical-align: top;\n",
       "    }\n",
       "</style>\n",
       "<table border=\"1\" class=\"dataframe\">\n",
       "  <thead>\n",
       "    <tr style=\"text-align: right;\">\n",
       "      <th></th>\n",
       "      <th>SPD</th>\n",
       "      <th>VSB</th>\n",
       "      <th>TEMP</th>\n",
       "      <th>DEWP</th>\n",
       "      <th>STP</th>\n",
       "    </tr>\n",
       "    <tr>\n",
       "      <th>TIME</th>\n",
       "      <th></th>\n",
       "      <th></th>\n",
       "      <th></th>\n",
       "      <th></th>\n",
       "      <th></th>\n",
       "    </tr>\n",
       "  </thead>\n",
       "  <tbody>\n",
       "    <tr>\n",
       "      <th>2005-12-31 19:00:00</th>\n",
       "      <td>0.0</td>\n",
       "      <td>5.0</td>\n",
       "      <td>36.0</td>\n",
       "      <td>36.0</td>\n",
       "      <td>NaN</td>\n",
       "    </tr>\n",
       "    <tr>\n",
       "      <th>2005-12-31 19:45:00</th>\n",
       "      <td>0.0</td>\n",
       "      <td>5.0</td>\n",
       "      <td>36.0</td>\n",
       "      <td>36.0</td>\n",
       "      <td>1009.7</td>\n",
       "    </tr>\n",
       "    <tr>\n",
       "      <th>2005-12-31 20:55:00</th>\n",
       "      <td>0.0</td>\n",
       "      <td>5.0</td>\n",
       "      <td>36.0</td>\n",
       "      <td>34.0</td>\n",
       "      <td>1009.7</td>\n",
       "    </tr>\n",
       "    <tr>\n",
       "      <th>2006-01-01 05:46:00</th>\n",
       "      <td>NaN</td>\n",
       "      <td>NaN</td>\n",
       "      <td>41.0</td>\n",
       "      <td>32.0</td>\n",
       "      <td>1014.4</td>\n",
       "    </tr>\n",
       "    <tr>\n",
       "      <th>2006-01-01 06:45:00</th>\n",
       "      <td>5.0</td>\n",
       "      <td>10.0</td>\n",
       "      <td>41.0</td>\n",
       "      <td>32.0</td>\n",
       "      <td>1015.4</td>\n",
       "    </tr>\n",
       "  </tbody>\n",
       "</table>\n",
       "</div>"
      ],
      "text/plain": [
       "                     SPD   VSB  TEMP  DEWP     STP\n",
       "TIME                                              \n",
       "2005-12-31 19:00:00  0.0   5.0  36.0  36.0     NaN\n",
       "2005-12-31 19:45:00  0.0   5.0  36.0  36.0  1009.7\n",
       "2005-12-31 20:55:00  0.0   5.0  36.0  34.0  1009.7\n",
       "2006-01-01 05:46:00  NaN   NaN  41.0  32.0  1014.4\n",
       "2006-01-01 06:45:00  5.0  10.0  41.0  32.0  1015.4"
      ]
     },
     "execution_count": 12,
     "metadata": {},
     "output_type": "execute_result"
    }
   ],
   "source": [
    "#Convert times to naive\n",
    "wx = wx.tz_localize(None)\n",
    "wx.head()"
   ]
  },
  {
   "cell_type": "markdown",
   "metadata": {},
   "source": [
    "Next, the observations were resampled so they could be cleanly shown for every hour, and then they were counted hourly to see whether each hour had an observation. This information was stored in a new `obscount` dataframe."
   ]
  },
  {
   "cell_type": "code",
   "execution_count": 13,
   "metadata": {},
   "outputs": [
    {
     "data": {
      "text/html": [
       "<div>\n",
       "<style>\n",
       "    .dataframe thead tr:only-child th {\n",
       "        text-align: right;\n",
       "    }\n",
       "\n",
       "    .dataframe thead th {\n",
       "        text-align: left;\n",
       "    }\n",
       "\n",
       "    .dataframe tbody tr th {\n",
       "        vertical-align: top;\n",
       "    }\n",
       "</style>\n",
       "<table border=\"1\" class=\"dataframe\">\n",
       "  <thead>\n",
       "    <tr style=\"text-align: right;\">\n",
       "      <th></th>\n",
       "      <th>SPD</th>\n",
       "      <th>VSB</th>\n",
       "      <th>TEMP</th>\n",
       "      <th>DEWP</th>\n",
       "      <th>STP</th>\n",
       "    </tr>\n",
       "    <tr>\n",
       "      <th>TIME</th>\n",
       "      <th></th>\n",
       "      <th></th>\n",
       "      <th></th>\n",
       "      <th></th>\n",
       "      <th></th>\n",
       "    </tr>\n",
       "  </thead>\n",
       "  <tbody>\n",
       "    <tr>\n",
       "      <th>2005-12-31 19:00:00</th>\n",
       "      <td>2</td>\n",
       "      <td>2</td>\n",
       "      <td>2</td>\n",
       "      <td>2</td>\n",
       "      <td>1</td>\n",
       "    </tr>\n",
       "    <tr>\n",
       "      <th>2005-12-31 20:00:00</th>\n",
       "      <td>1</td>\n",
       "      <td>1</td>\n",
       "      <td>1</td>\n",
       "      <td>1</td>\n",
       "      <td>1</td>\n",
       "    </tr>\n",
       "    <tr>\n",
       "      <th>2005-12-31 21:00:00</th>\n",
       "      <td>0</td>\n",
       "      <td>0</td>\n",
       "      <td>0</td>\n",
       "      <td>0</td>\n",
       "      <td>0</td>\n",
       "    </tr>\n",
       "    <tr>\n",
       "      <th>2005-12-31 22:00:00</th>\n",
       "      <td>0</td>\n",
       "      <td>0</td>\n",
       "      <td>0</td>\n",
       "      <td>0</td>\n",
       "      <td>0</td>\n",
       "    </tr>\n",
       "    <tr>\n",
       "      <th>2005-12-31 23:00:00</th>\n",
       "      <td>0</td>\n",
       "      <td>0</td>\n",
       "      <td>0</td>\n",
       "      <td>0</td>\n",
       "      <td>0</td>\n",
       "    </tr>\n",
       "  </tbody>\n",
       "</table>\n",
       "</div>"
      ],
      "text/plain": [
       "                     SPD  VSB  TEMP  DEWP  STP\n",
       "TIME                                          \n",
       "2005-12-31 19:00:00    2    2     2     2    1\n",
       "2005-12-31 20:00:00    1    1     1     1    1\n",
       "2005-12-31 21:00:00    0    0     0     0    0\n",
       "2005-12-31 22:00:00    0    0     0     0    0\n",
       "2005-12-31 23:00:00    0    0     0     0    0"
      ]
     },
     "execution_count": 13,
     "metadata": {},
     "output_type": "execute_result"
    }
   ],
   "source": [
    "#Resample observations\n",
    "obscount = wx.resample('h').count()\n",
    "obscount.head()"
   ]
  },
  {
   "cell_type": "markdown",
   "metadata": {},
   "source": [
    "In the `obscount` dataframe, a new column, `'OBS'`, was created for the purpose of counting the maximum number of observations for any variable in each hour. The `.max()` function was used, with the axis set to 1 so that the maximum value in each row would be included. Also, the `.unique()` function was used to show the entire range of the number of observations per hour, throughout the entire dataset. "
   ]
  },
  {
   "cell_type": "code",
   "execution_count": 14,
   "metadata": {},
   "outputs": [
    {
     "data": {
      "text/html": [
       "<div>\n",
       "<style>\n",
       "    .dataframe thead tr:only-child th {\n",
       "        text-align: right;\n",
       "    }\n",
       "\n",
       "    .dataframe thead th {\n",
       "        text-align: left;\n",
       "    }\n",
       "\n",
       "    .dataframe tbody tr th {\n",
       "        vertical-align: top;\n",
       "    }\n",
       "</style>\n",
       "<table border=\"1\" class=\"dataframe\">\n",
       "  <thead>\n",
       "    <tr style=\"text-align: right;\">\n",
       "      <th></th>\n",
       "      <th>OBS</th>\n",
       "    </tr>\n",
       "    <tr>\n",
       "      <th>TIME</th>\n",
       "      <th></th>\n",
       "    </tr>\n",
       "  </thead>\n",
       "  <tbody>\n",
       "    <tr>\n",
       "      <th>2005-12-31 19:00:00</th>\n",
       "      <td>2</td>\n",
       "    </tr>\n",
       "    <tr>\n",
       "      <th>2005-12-31 20:00:00</th>\n",
       "      <td>1</td>\n",
       "    </tr>\n",
       "    <tr>\n",
       "      <th>2005-12-31 21:00:00</th>\n",
       "      <td>0</td>\n",
       "    </tr>\n",
       "    <tr>\n",
       "      <th>2005-12-31 22:00:00</th>\n",
       "      <td>0</td>\n",
       "    </tr>\n",
       "    <tr>\n",
       "      <th>2005-12-31 23:00:00</th>\n",
       "      <td>0</td>\n",
       "    </tr>\n",
       "  </tbody>\n",
       "</table>\n",
       "</div>"
      ],
      "text/plain": [
       "                     OBS\n",
       "TIME                    \n",
       "2005-12-31 19:00:00    2\n",
       "2005-12-31 20:00:00    1\n",
       "2005-12-31 21:00:00    0\n",
       "2005-12-31 22:00:00    0\n",
       "2005-12-31 23:00:00    0"
      ]
     },
     "execution_count": 14,
     "metadata": {},
     "output_type": "execute_result"
    }
   ],
   "source": [
    "#New obscount column\n",
    "obscount['OBS'] = obscount.max(axis=1)\n",
    "obscount = obscount.loc[:, ['OBS']]\n",
    "obscount.head()"
   ]
  },
  {
   "cell_type": "code",
   "execution_count": 15,
   "metadata": {},
   "outputs": [
    {
     "data": {
      "text/plain": [
       "array([2, 1, 0, 3, 4, 6, 5, 7])"
      ]
     },
     "execution_count": 15,
     "metadata": {},
     "output_type": "execute_result"
    }
   ],
   "source": [
    "#Show full range of obs/hr\n",
    "obscount.OBS.unique()"
   ]
  },
  {
   "cell_type": "markdown",
   "metadata": {},
   "source": [
    "The values of zero were replaced with null values, so that the total number of hours per day with observations could be counted using the `.resample('D')` function. This function does not count the total number of observations in a day. It counts the total number of hours in a day in which observations are recorded, so every valid value is counted. With the replacement of values equal to `0` with `NaN`, an accurate number of hours with observations per day could be tallied.\n",
    "\n",
    "As seen in the head of the dataframe, all of the early days had many missing hours for all variables being studied. As a result, the number of hours with observations per day throughout the entire dataset was graphed, so that this issue could be visualized."
   ]
  },
  {
   "cell_type": "code",
   "execution_count": 16,
   "metadata": {},
   "outputs": [
    {
     "data": {
      "text/html": [
       "<div>\n",
       "<style>\n",
       "    .dataframe thead tr:only-child th {\n",
       "        text-align: right;\n",
       "    }\n",
       "\n",
       "    .dataframe thead th {\n",
       "        text-align: left;\n",
       "    }\n",
       "\n",
       "    .dataframe tbody tr th {\n",
       "        vertical-align: top;\n",
       "    }\n",
       "</style>\n",
       "<table border=\"1\" class=\"dataframe\">\n",
       "  <thead>\n",
       "    <tr style=\"text-align: right;\">\n",
       "      <th></th>\n",
       "      <th>OBS</th>\n",
       "    </tr>\n",
       "    <tr>\n",
       "      <th>TIME</th>\n",
       "      <th></th>\n",
       "    </tr>\n",
       "  </thead>\n",
       "  <tbody>\n",
       "    <tr>\n",
       "      <th>2005-12-31</th>\n",
       "      <td>2</td>\n",
       "    </tr>\n",
       "    <tr>\n",
       "      <th>2006-01-01</th>\n",
       "      <td>17</td>\n",
       "    </tr>\n",
       "    <tr>\n",
       "      <th>2006-01-02</th>\n",
       "      <td>17</td>\n",
       "    </tr>\n",
       "    <tr>\n",
       "      <th>2006-01-03</th>\n",
       "      <td>16</td>\n",
       "    </tr>\n",
       "    <tr>\n",
       "      <th>2006-01-04</th>\n",
       "      <td>13</td>\n",
       "    </tr>\n",
       "  </tbody>\n",
       "</table>\n",
       "</div>"
      ],
      "text/plain": [
       "            OBS\n",
       "TIME           \n",
       "2005-12-31    2\n",
       "2006-01-01   17\n",
       "2006-01-02   17\n",
       "2006-01-03   16\n",
       "2006-01-04   13"
      ]
     },
     "execution_count": 16,
     "metadata": {},
     "output_type": "execute_result"
    }
   ],
   "source": [
    "#Replace 0 as NaN\n",
    "obscount.replace(0, np.NaN, inplace=True)\n",
    "#Resample obscount to daily\n",
    "obscount = obscount.resample('D').count()\n",
    "obscount.head()"
   ]
  },
  {
   "cell_type": "code",
   "execution_count": 17,
   "metadata": {},
   "outputs": [
    {
     "data": {
      "image/png": "[encoded data removed]",
      "text/plain": [
       "<matplotlib.figure.Figure at 0x10be33950>"
      ]
     },
     "metadata": {},
     "output_type": "display_data"
    }
   ],
   "source": [
    "#Plot daily # of hours of obs/day for full time period\n",
    "_ = plt.rcParams['figure.figsize'] = [16, 9]\n",
    "_ = obscount.plot()\n",
    "_ = plt.title('Hours of obs per day', fontsize = 25)\n",
    "_ = plt.xlabel('Year', fontsize = 15)\n",
    "_ = plt.ylabel('Hours of obs', fontsize = 15)\n",
    "_ = plt.yticks([0, 4, 8, 12, 16, 20, 24])"
   ]
  },
  {
   "cell_type": "markdown",
   "metadata": {},
   "source": [
    "As seen in the above graph, all of 2006 and part of 2007 consistently had at least 7 hours per day missing in the observations. Also, a shorter, but similar period was found from late 2016 to early 2017. To minimize this problem, the time period being studied was truncated to the entirety of 2008 to 2015.\n",
    "\n",
    "Another graph with the trimmed time period was plotted below to show the difference. This time period had occassional missing values (as would most datasets), but no consistent period of missing hours was found."
   ]
  },
  {
   "cell_type": "code",
   "execution_count": 18,
   "metadata": {},
   "outputs": [
    {
     "data": {
      "image/png": "[encoded data removed]",
      "text/plain": [
       "<matplotlib.figure.Figure at 0x10c386e10>"
      ]
     },
     "metadata": {},
     "output_type": "display_data"
    }
   ],
   "source": [
    "#Filter data to 2008 through 2015\n",
    "obscount = obscount['2008-01-01':'2015-12-31']\n",
    "#Plot the revised data\n",
    "_ = plt.rcParams['figure.figsize'] = [16, 9]\n",
    "_ = obscount.plot()\n",
    "_ = plt.title('Hours of obs per day', fontsize = 25)\n",
    "_ = plt.xlabel('Year', fontsize = 15)\n",
    "_ = plt.ylabel('Hours of obs', fontsize = 15)\n",
    "_ = plt.yticks([0, 4, 8, 12, 16, 20, 24])"
   ]
  },
  {
   "cell_type": "markdown",
   "metadata": {},
   "source": [
    "As a result of the `obscount` plots and the successful truncation of data, the same time period was applied to the original dataset of weather obserations. Significant numbers of missing values were still found for each variable, but since most days did not have more than a few missing hours, an interpolation was a reliable solution."
   ]
  },
  {
   "cell_type": "code",
   "execution_count": 19,
   "metadata": {
    "collapsed": true
   },
   "outputs": [],
   "source": [
    "#Filter weather data\n",
    "wx = wx['2008-01-01':'2015-12-31']"
   ]
  },
  {
   "cell_type": "code",
   "execution_count": 20,
   "metadata": {},
   "outputs": [
    {
     "name": "stdout",
     "output_type": "stream",
     "text": [
      "Number of missing values for each variable:\n",
      "SPD      316\n",
      "VSB      427\n",
      "TEMP    2297\n",
      "DEWP    2391\n",
      "STP     5496\n",
      "dtype: int64\n"
     ]
    }
   ],
   "source": [
    "#Count null values\n",
    "print 'Number of missing values for each variable:'\n",
    "print(wx.isnull().sum())"
   ]
  },
  {
   "cell_type": "markdown",
   "metadata": {
    "collapsed": true
   },
   "source": [
    "To interpolate this data, a new dataframe `wx2` consisting of every hour from 2008 to 2015 was created, under the singular column `'TIME'`. The index of the initial `wx` dataframe was reset, so that the datetimes (`'TIME'`) could be used as a column."
   ]
  },
  {
   "cell_type": "code",
   "execution_count": 21,
   "metadata": {},
   "outputs": [
    {
     "data": {
      "text/html": [
       "<div>\n",
       "<style>\n",
       "    .dataframe thead tr:only-child th {\n",
       "        text-align: right;\n",
       "    }\n",
       "\n",
       "    .dataframe thead th {\n",
       "        text-align: left;\n",
       "    }\n",
       "\n",
       "    .dataframe tbody tr th {\n",
       "        vertical-align: top;\n",
       "    }\n",
       "</style>\n",
       "<table border=\"1\" class=\"dataframe\">\n",
       "  <thead>\n",
       "    <tr style=\"text-align: right;\">\n",
       "      <th></th>\n",
       "      <th>TIME</th>\n",
       "    </tr>\n",
       "  </thead>\n",
       "  <tbody>\n",
       "    <tr>\n",
       "      <th>0</th>\n",
       "      <td>2008-01-01 00:00:00</td>\n",
       "    </tr>\n",
       "    <tr>\n",
       "      <th>1</th>\n",
       "      <td>2008-01-01 01:00:00</td>\n",
       "    </tr>\n",
       "    <tr>\n",
       "      <th>2</th>\n",
       "      <td>2008-01-01 02:00:00</td>\n",
       "    </tr>\n",
       "    <tr>\n",
       "      <th>3</th>\n",
       "      <td>2008-01-01 03:00:00</td>\n",
       "    </tr>\n",
       "    <tr>\n",
       "      <th>4</th>\n",
       "      <td>2008-01-01 04:00:00</td>\n",
       "    </tr>\n",
       "  </tbody>\n",
       "</table>\n",
       "</div>"
      ],
      "text/plain": [
       "                 TIME\n",
       "0 2008-01-01 00:00:00\n",
       "1 2008-01-01 01:00:00\n",
       "2 2008-01-01 02:00:00\n",
       "3 2008-01-01 03:00:00\n",
       "4 2008-01-01 04:00:00"
      ]
     },
     "execution_count": 21,
     "metadata": {},
     "output_type": "execute_result"
    }
   ],
   "source": [
    "#Create new dataframe with round hourly values \n",
    "wx.reset_index(inplace = True)\n",
    "wx2 = pd.DataFrame(pd.date_range(start = '2008-01-01 00:00:00', \n",
    "                                 end = '2015-12-31 23:00:00', freq = '1h'))\n",
    "wx2.columns = ['TIME']\n",
    "wx2.head()"
   ]
  },
  {
   "cell_type": "markdown",
   "metadata": {},
   "source": [
    "A `for` loop was used to replicate all the column names of the `wx` dataframe, but without any data. However, the data types of those columns were set to float, so that any data that gets appended would recognized as numeric. \n",
    "\n",
    "Afterwords, a new column `'stamped'` in `wx2` was created, with the value being set to 1, so that every row of this original `wx2` dataframe would be recognized once the data from the original `wx` dataframe is appended."
   ]
  },
  {
   "cell_type": "code",
   "execution_count": 22,
   "metadata": {
    "collapsed": true
   },
   "outputs": [],
   "source": [
    "#Replicate columns from original dataframe\n",
    "for col in wx.columns[1:]:\n",
    "    wx2[col] = None\n",
    "    wx2[col] = wx2[col].astype(float)\n",
    "wx2['stamped'] = 1"
   ]
  },
  {
   "cell_type": "code",
   "execution_count": 23,
   "metadata": {},
   "outputs": [
    {
     "data": {
      "text/html": [
       "<div>\n",
       "<style>\n",
       "    .dataframe thead tr:only-child th {\n",
       "        text-align: right;\n",
       "    }\n",
       "\n",
       "    .dataframe thead th {\n",
       "        text-align: left;\n",
       "    }\n",
       "\n",
       "    .dataframe tbody tr th {\n",
       "        vertical-align: top;\n",
       "    }\n",
       "</style>\n",
       "<table border=\"1\" class=\"dataframe\">\n",
       "  <thead>\n",
       "    <tr style=\"text-align: right;\">\n",
       "      <th></th>\n",
       "      <th>TIME</th>\n",
       "      <th>SPD</th>\n",
       "      <th>VSB</th>\n",
       "      <th>TEMP</th>\n",
       "      <th>DEWP</th>\n",
       "      <th>STP</th>\n",
       "      <th>stamped</th>\n",
       "    </tr>\n",
       "  </thead>\n",
       "  <tbody>\n",
       "    <tr>\n",
       "      <th>0</th>\n",
       "      <td>2008-01-01 00:00:00</td>\n",
       "      <td>NaN</td>\n",
       "      <td>NaN</td>\n",
       "      <td>NaN</td>\n",
       "      <td>NaN</td>\n",
       "      <td>NaN</td>\n",
       "      <td>1</td>\n",
       "    </tr>\n",
       "    <tr>\n",
       "      <th>1</th>\n",
       "      <td>2008-01-01 01:00:00</td>\n",
       "      <td>NaN</td>\n",
       "      <td>NaN</td>\n",
       "      <td>NaN</td>\n",
       "      <td>NaN</td>\n",
       "      <td>NaN</td>\n",
       "      <td>1</td>\n",
       "    </tr>\n",
       "    <tr>\n",
       "      <th>2</th>\n",
       "      <td>2008-01-01 02:00:00</td>\n",
       "      <td>NaN</td>\n",
       "      <td>NaN</td>\n",
       "      <td>NaN</td>\n",
       "      <td>NaN</td>\n",
       "      <td>NaN</td>\n",
       "      <td>1</td>\n",
       "    </tr>\n",
       "    <tr>\n",
       "      <th>3</th>\n",
       "      <td>2008-01-01 03:00:00</td>\n",
       "      <td>NaN</td>\n",
       "      <td>NaN</td>\n",
       "      <td>NaN</td>\n",
       "      <td>NaN</td>\n",
       "      <td>NaN</td>\n",
       "      <td>1</td>\n",
       "    </tr>\n",
       "    <tr>\n",
       "      <th>4</th>\n",
       "      <td>2008-01-01 04:00:00</td>\n",
       "      <td>NaN</td>\n",
       "      <td>NaN</td>\n",
       "      <td>NaN</td>\n",
       "      <td>NaN</td>\n",
       "      <td>NaN</td>\n",
       "      <td>1</td>\n",
       "    </tr>\n",
       "  </tbody>\n",
       "</table>\n",
       "</div>"
      ],
      "text/plain": [
       "                 TIME  SPD  VSB  TEMP  DEWP  STP  stamped\n",
       "0 2008-01-01 00:00:00  NaN  NaN   NaN   NaN  NaN        1\n",
       "1 2008-01-01 01:00:00  NaN  NaN   NaN   NaN  NaN        1\n",
       "2 2008-01-01 02:00:00  NaN  NaN   NaN   NaN  NaN        1\n",
       "3 2008-01-01 03:00:00  NaN  NaN   NaN   NaN  NaN        1\n",
       "4 2008-01-01 04:00:00  NaN  NaN   NaN   NaN  NaN        1"
      ]
     },
     "execution_count": 23,
     "metadata": {},
     "output_type": "execute_result"
    }
   ],
   "source": [
    "wx2.head()"
   ]
  },
  {
   "cell_type": "markdown",
   "metadata": {},
   "source": [
    "Another dataframe, `wx_int`, was then created to include all the rows and data from both the original `wx` and the newly created `wx2`. The `'stamped'` column indicated which dataframe the row originated from, with values of 1 associated with the `wx2` dataframe, and values of 0 associated with the original `wx` dataframe. The rows were then sorted by time. "
   ]
  },
  {
   "cell_type": "code",
   "execution_count": 24,
   "metadata": {
    "collapsed": true
   },
   "outputs": [],
   "source": [
    "#Append both dataframes into a new dataframe for interpolation and sort values chronologically\n",
    "wx_int = wx.assign(stamped = 0).append(wx2, ignore_index = True).sort_values('TIME').set_index('TIME')"
   ]
  },
  {
   "cell_type": "markdown",
   "metadata": {},
   "source": [
    "With all the rows of the `wx` and `wx2` dataframes sorted in chronological order, with the rows from `wx2` having null values but clean hourly timeframes, the dataframe was finally ready for interpolation. \n",
    "\n",
    "The interpolation was done in both directions, and all the hourly rows of the `wx2` dataframe were successfully filled in with values based on the data from the original `wx` dataframe. The values from `wx` were deleted, and then `wx_int` was made to be the new `wx` dataframe."
   ]
  },
  {
   "cell_type": "code",
   "execution_count": 25,
   "metadata": {},
   "outputs": [
    {
     "data": {
      "text/html": [
       "<div>\n",
       "<style>\n",
       "    .dataframe thead tr:only-child th {\n",
       "        text-align: right;\n",
       "    }\n",
       "\n",
       "    .dataframe thead th {\n",
       "        text-align: left;\n",
       "    }\n",
       "\n",
       "    .dataframe tbody tr th {\n",
       "        vertical-align: top;\n",
       "    }\n",
       "</style>\n",
       "<table border=\"1\" class=\"dataframe\">\n",
       "  <thead>\n",
       "    <tr style=\"text-align: right;\">\n",
       "      <th></th>\n",
       "      <th>SPD</th>\n",
       "      <th>VSB</th>\n",
       "      <th>TEMP</th>\n",
       "      <th>DEWP</th>\n",
       "      <th>STP</th>\n",
       "    </tr>\n",
       "    <tr>\n",
       "      <th>TIME</th>\n",
       "      <th></th>\n",
       "      <th></th>\n",
       "      <th></th>\n",
       "      <th></th>\n",
       "      <th></th>\n",
       "    </tr>\n",
       "  </thead>\n",
       "  <tbody>\n",
       "    <tr>\n",
       "      <th>2008-01-01 00:00:00</th>\n",
       "      <td>8.0</td>\n",
       "      <td>10.0</td>\n",
       "      <td>41.0</td>\n",
       "      <td>39.0</td>\n",
       "      <td>1018.100000</td>\n",
       "    </tr>\n",
       "    <tr>\n",
       "      <th>2008-01-01 01:00:00</th>\n",
       "      <td>8.5</td>\n",
       "      <td>10.0</td>\n",
       "      <td>41.0</td>\n",
       "      <td>41.0</td>\n",
       "      <td>1017.250000</td>\n",
       "    </tr>\n",
       "    <tr>\n",
       "      <th>2008-01-01 02:00:00</th>\n",
       "      <td>8.5</td>\n",
       "      <td>10.0</td>\n",
       "      <td>42.0</td>\n",
       "      <td>41.0</td>\n",
       "      <td>1016.466667</td>\n",
       "    </tr>\n",
       "    <tr>\n",
       "      <th>2008-01-01 03:00:00</th>\n",
       "      <td>12.0</td>\n",
       "      <td>10.0</td>\n",
       "      <td>43.0</td>\n",
       "      <td>41.0</td>\n",
       "      <td>1015.050000</td>\n",
       "    </tr>\n",
       "    <tr>\n",
       "      <th>2008-01-01 04:00:00</th>\n",
       "      <td>13.5</td>\n",
       "      <td>10.0</td>\n",
       "      <td>43.0</td>\n",
       "      <td>42.0</td>\n",
       "      <td>1014.250000</td>\n",
       "    </tr>\n",
       "  </tbody>\n",
       "</table>\n",
       "</div>"
      ],
      "text/plain": [
       "                      SPD   VSB  TEMP  DEWP          STP\n",
       "TIME                                                    \n",
       "2008-01-01 00:00:00   8.0  10.0  41.0  39.0  1018.100000\n",
       "2008-01-01 01:00:00   8.5  10.0  41.0  41.0  1017.250000\n",
       "2008-01-01 02:00:00   8.5  10.0  42.0  41.0  1016.466667\n",
       "2008-01-01 03:00:00  12.0  10.0  43.0  41.0  1015.050000\n",
       "2008-01-01 04:00:00  13.5  10.0  43.0  42.0  1014.250000"
      ]
     },
     "execution_count": 25,
     "metadata": {},
     "output_type": "execute_result"
    }
   ],
   "source": [
    "#Interpolate the weather data\n",
    "wx_int.interpolate(limit_direction='both', inplace = True)\n",
    "#Remove original values\n",
    "wx_int = wx_int.query('stamped == 1').drop('stamped', 1)\n",
    "\n",
    "#Use interpolated data as the new wx dataframe\n",
    "wx = wx_int\n",
    "wx.head()"
   ]
  },
  {
   "cell_type": "code",
   "execution_count": 26,
   "metadata": {},
   "outputs": [
    {
     "data": {
      "text/html": [
       "<div>\n",
       "<style>\n",
       "    .dataframe thead tr:only-child th {\n",
       "        text-align: right;\n",
       "    }\n",
       "\n",
       "    .dataframe thead th {\n",
       "        text-align: left;\n",
       "    }\n",
       "\n",
       "    .dataframe tbody tr th {\n",
       "        vertical-align: top;\n",
       "    }\n",
       "</style>\n",
       "<table border=\"1\" class=\"dataframe\">\n",
       "  <thead>\n",
       "    <tr style=\"text-align: right;\">\n",
       "      <th></th>\n",
       "      <th>SPD</th>\n",
       "      <th>VSB</th>\n",
       "      <th>TEMP</th>\n",
       "      <th>DEWP</th>\n",
       "      <th>STP</th>\n",
       "    </tr>\n",
       "    <tr>\n",
       "      <th>TIME</th>\n",
       "      <th></th>\n",
       "      <th></th>\n",
       "      <th></th>\n",
       "      <th></th>\n",
       "      <th></th>\n",
       "    </tr>\n",
       "  </thead>\n",
       "  <tbody>\n",
       "    <tr>\n",
       "      <th>2015-12-31 19:00:00</th>\n",
       "      <td>5.0</td>\n",
       "      <td>10.0</td>\n",
       "      <td>45.5</td>\n",
       "      <td>37.0</td>\n",
       "      <td>1019.715</td>\n",
       "    </tr>\n",
       "    <tr>\n",
       "      <th>2015-12-31 20:00:00</th>\n",
       "      <td>1.5</td>\n",
       "      <td>10.0</td>\n",
       "      <td>45.0</td>\n",
       "      <td>37.0</td>\n",
       "      <td>1019.985</td>\n",
       "    </tr>\n",
       "    <tr>\n",
       "      <th>2015-12-31 21:00:00</th>\n",
       "      <td>2.5</td>\n",
       "      <td>10.0</td>\n",
       "      <td>45.0</td>\n",
       "      <td>36.5</td>\n",
       "      <td>1020.255</td>\n",
       "    </tr>\n",
       "    <tr>\n",
       "      <th>2015-12-31 22:00:00</th>\n",
       "      <td>4.0</td>\n",
       "      <td>10.0</td>\n",
       "      <td>44.0</td>\n",
       "      <td>36.0</td>\n",
       "      <td>1020.525</td>\n",
       "    </tr>\n",
       "    <tr>\n",
       "      <th>2015-12-31 23:00:00</th>\n",
       "      <td>5.0</td>\n",
       "      <td>10.0</td>\n",
       "      <td>43.0</td>\n",
       "      <td>36.0</td>\n",
       "      <td>1020.930</td>\n",
       "    </tr>\n",
       "  </tbody>\n",
       "</table>\n",
       "</div>"
      ],
      "text/plain": [
       "                     SPD   VSB  TEMP  DEWP       STP\n",
       "TIME                                                \n",
       "2015-12-31 19:00:00  5.0  10.0  45.5  37.0  1019.715\n",
       "2015-12-31 20:00:00  1.5  10.0  45.0  37.0  1019.985\n",
       "2015-12-31 21:00:00  2.5  10.0  45.0  36.5  1020.255\n",
       "2015-12-31 22:00:00  4.0  10.0  44.0  36.0  1020.525\n",
       "2015-12-31 23:00:00  5.0  10.0  43.0  36.0  1020.930"
      ]
     },
     "execution_count": 26,
     "metadata": {},
     "output_type": "execute_result"
    }
   ],
   "source": [
    "wx.tail()"
   ]
  },
  {
   "cell_type": "markdown",
   "metadata": {},
   "source": [
    "The values in this interpolated dataframe were all floats, and every column needed for its values to either be rounded or expressed as integers. Once that was done, and once every column was confirmed to have no missing values, the data cleaning of the weather dataframe was finally complete."
   ]
  },
  {
   "cell_type": "code",
   "execution_count": 27,
   "metadata": {
    "collapsed": true
   },
   "outputs": [],
   "source": [
    "#Round the values\n",
    "wx[['SPD','TEMP','DEWP']] = wx[['SPD','TEMP','DEWP']].astype(int)\n",
    "wx['VSB'] = wx['VSB'].round(1)\n",
    "wx['STP'] = wx['STP'].round(1)"
   ]
  },
  {
   "cell_type": "code",
   "execution_count": 28,
   "metadata": {},
   "outputs": [
    {
     "name": "stdout",
     "output_type": "stream",
     "text": [
      "Number of missing values for each variable:\n",
      "SPD     0\n",
      "VSB     0\n",
      "TEMP    0\n",
      "DEWP    0\n",
      "STP     0\n",
      "dtype: int64\n"
     ]
    }
   ],
   "source": [
    "#Confirm no missing values\n",
    "print 'Number of missing values for each variable:'\n",
    "print(wx.isnull().sum())"
   ]
  },
  {
   "cell_type": "markdown",
   "metadata": {},
   "source": [
    "*******"
   ]
  },
  {
   "cell_type": "markdown",
   "metadata": {},
   "source": [
    "### Ozone data\n",
    "The ozone dataset was uploaded as a dataframe. Although it was a plain text file, it had commas separating each value, so no delimiter needed to be specified. The date format was odd, so that column needed to be cleaned before setting it as an index."
   ]
  },
  {
   "cell_type": "code",
   "execution_count": 29,
   "metadata": {
    "collapsed": true
   },
   "outputs": [],
   "source": [
    "#Load ozone dataframe\n",
    "o3 = pd.read_csv('Essex_ozone_data.txt', low_memory=False)"
   ]
  },
  {
   "cell_type": "code",
   "execution_count": 30,
   "metadata": {},
   "outputs": [
    {
     "data": {
      "text/html": [
       "<div>\n",
       "<style>\n",
       "    .dataframe thead tr:only-child th {\n",
       "        text-align: right;\n",
       "    }\n",
       "\n",
       "    .dataframe thead th {\n",
       "        text-align: left;\n",
       "    }\n",
       "\n",
       "    .dataframe tbody tr th {\n",
       "        vertical-align: top;\n",
       "    }\n",
       "</style>\n",
       "<table border=\"1\" class=\"dataframe\">\n",
       "  <thead>\n",
       "    <tr style=\"text-align: right;\">\n",
       "      <th></th>\n",
       "      <th>site</th>\n",
       "      <th>data_status</th>\n",
       "      <th>action_code</th>\n",
       "      <th>datetime</th>\n",
       "      <th>parameter</th>\n",
       "      <th>duration</th>\n",
       "      <th>frequency</th>\n",
       "      <th>value</th>\n",
       "      <th>unit</th>\n",
       "      <th>qc</th>\n",
       "      <th>poc</th>\n",
       "      <th>lat</th>\n",
       "      <th>lon</th>\n",
       "      <th>GISDatum</th>\n",
       "      <th>elev</th>\n",
       "      <th>method_code</th>\n",
       "      <th>mpc</th>\n",
       "      <th>mpc_value</th>\n",
       "      <th>uncertainty</th>\n",
       "      <th>qualifiers</th>\n",
       "    </tr>\n",
       "  </thead>\n",
       "  <tbody>\n",
       "    <tr>\n",
       "      <th>0</th>\n",
       "      <td>840240053001</td>\n",
       "      <td>0.0</td>\n",
       "      <td>10.0</td>\n",
       "      <td>20060101T2300-0500</td>\n",
       "      <td>44201.0</td>\n",
       "      <td>60.0</td>\n",
       "      <td>0.0</td>\n",
       "      <td>0.002</td>\n",
       "      <td>7.0</td>\n",
       "      <td>0.0</td>\n",
       "      <td>1.0</td>\n",
       "      <td>39.310833</td>\n",
       "      <td>-76.474444</td>\n",
       "      <td>WGS84</td>\n",
       "      <td>5.0</td>\n",
       "      <td>47.0</td>\n",
       "      <td>1.0</td>\n",
       "      <td>0.005</td>\n",
       "      <td>NaN</td>\n",
       "      <td>NaN</td>\n",
       "    </tr>\n",
       "    <tr>\n",
       "      <th>1</th>\n",
       "      <td>840240053001</td>\n",
       "      <td>0.0</td>\n",
       "      <td>10.0</td>\n",
       "      <td>20060101T2200-0500</td>\n",
       "      <td>44201.0</td>\n",
       "      <td>60.0</td>\n",
       "      <td>0.0</td>\n",
       "      <td>0.001</td>\n",
       "      <td>7.0</td>\n",
       "      <td>0.0</td>\n",
       "      <td>1.0</td>\n",
       "      <td>39.310833</td>\n",
       "      <td>-76.474444</td>\n",
       "      <td>WGS84</td>\n",
       "      <td>5.0</td>\n",
       "      <td>47.0</td>\n",
       "      <td>1.0</td>\n",
       "      <td>0.005</td>\n",
       "      <td>NaN</td>\n",
       "      <td>NaN</td>\n",
       "    </tr>\n",
       "    <tr>\n",
       "      <th>2</th>\n",
       "      <td>840240053001</td>\n",
       "      <td>0.0</td>\n",
       "      <td>10.0</td>\n",
       "      <td>20060101T0000-0500</td>\n",
       "      <td>44201.0</td>\n",
       "      <td>60.0</td>\n",
       "      <td>0.0</td>\n",
       "      <td>0.001</td>\n",
       "      <td>7.0</td>\n",
       "      <td>0.0</td>\n",
       "      <td>1.0</td>\n",
       "      <td>39.310833</td>\n",
       "      <td>-76.474444</td>\n",
       "      <td>WGS84</td>\n",
       "      <td>5.0</td>\n",
       "      <td>47.0</td>\n",
       "      <td>1.0</td>\n",
       "      <td>0.005</td>\n",
       "      <td>NaN</td>\n",
       "      <td>NaN</td>\n",
       "    </tr>\n",
       "    <tr>\n",
       "      <th>3</th>\n",
       "      <td>840240053001</td>\n",
       "      <td>0.0</td>\n",
       "      <td>10.0</td>\n",
       "      <td>20060101T2000-0500</td>\n",
       "      <td>44201.0</td>\n",
       "      <td>60.0</td>\n",
       "      <td>0.0</td>\n",
       "      <td>0.003</td>\n",
       "      <td>7.0</td>\n",
       "      <td>0.0</td>\n",
       "      <td>1.0</td>\n",
       "      <td>39.310833</td>\n",
       "      <td>-76.474444</td>\n",
       "      <td>WGS84</td>\n",
       "      <td>5.0</td>\n",
       "      <td>47.0</td>\n",
       "      <td>1.0</td>\n",
       "      <td>0.005</td>\n",
       "      <td>NaN</td>\n",
       "      <td>NaN</td>\n",
       "    </tr>\n",
       "    <tr>\n",
       "      <th>4</th>\n",
       "      <td>840240053001</td>\n",
       "      <td>0.0</td>\n",
       "      <td>10.0</td>\n",
       "      <td>20060101T1900-0500</td>\n",
       "      <td>44201.0</td>\n",
       "      <td>60.0</td>\n",
       "      <td>0.0</td>\n",
       "      <td>0.002</td>\n",
       "      <td>7.0</td>\n",
       "      <td>0.0</td>\n",
       "      <td>1.0</td>\n",
       "      <td>39.310833</td>\n",
       "      <td>-76.474444</td>\n",
       "      <td>WGS84</td>\n",
       "      <td>5.0</td>\n",
       "      <td>47.0</td>\n",
       "      <td>1.0</td>\n",
       "      <td>0.005</td>\n",
       "      <td>NaN</td>\n",
       "      <td>NaN</td>\n",
       "    </tr>\n",
       "  </tbody>\n",
       "</table>\n",
       "</div>"
      ],
      "text/plain": [
       "           site  data_status  action_code            datetime  parameter  \\\n",
       "0  840240053001          0.0         10.0  20060101T2300-0500    44201.0   \n",
       "1  840240053001          0.0         10.0  20060101T2200-0500    44201.0   \n",
       "2  840240053001          0.0         10.0  20060101T0000-0500    44201.0   \n",
       "3  840240053001          0.0         10.0  20060101T2000-0500    44201.0   \n",
       "4  840240053001          0.0         10.0  20060101T1900-0500    44201.0   \n",
       "\n",
       "   duration  frequency  value  unit   qc  poc        lat        lon GISDatum  \\\n",
       "0      60.0        0.0  0.002   7.0  0.0  1.0  39.310833 -76.474444    WGS84   \n",
       "1      60.0        0.0  0.001   7.0  0.0  1.0  39.310833 -76.474444    WGS84   \n",
       "2      60.0        0.0  0.001   7.0  0.0  1.0  39.310833 -76.474444    WGS84   \n",
       "3      60.0        0.0  0.003   7.0  0.0  1.0  39.310833 -76.474444    WGS84   \n",
       "4      60.0        0.0  0.002   7.0  0.0  1.0  39.310833 -76.474444    WGS84   \n",
       "\n",
       "   elev  method_code  mpc  mpc_value  uncertainty qualifiers  \n",
       "0   5.0         47.0  1.0      0.005          NaN        NaN  \n",
       "1   5.0         47.0  1.0      0.005          NaN        NaN  \n",
       "2   5.0         47.0  1.0      0.005          NaN        NaN  \n",
       "3   5.0         47.0  1.0      0.005          NaN        NaN  \n",
       "4   5.0         47.0  1.0      0.005          NaN        NaN  "
      ]
     },
     "execution_count": 30,
     "metadata": {},
     "output_type": "execute_result"
    }
   ],
   "source": [
    "o3.head()"
   ]
  },
  {
   "cell_type": "markdown",
   "metadata": {},
   "source": [
    "The initialized dataframe contained 20 columns and 102,249 rows. The only columns of importance are the `'datetime'` column and the `'value'` column, the latter of which contains the ozone concentration measured in parts per million (ppm). Fortunately, there are no missing values for those two columns, with the exception of the final row, which is void of any values, as shown below. "
   ]
  },
  {
   "cell_type": "code",
   "execution_count": 31,
   "metadata": {},
   "outputs": [
    {
     "data": {
      "text/html": [
       "<div>\n",
       "<style>\n",
       "    .dataframe thead tr:only-child th {\n",
       "        text-align: right;\n",
       "    }\n",
       "\n",
       "    .dataframe thead th {\n",
       "        text-align: left;\n",
       "    }\n",
       "\n",
       "    .dataframe tbody tr th {\n",
       "        vertical-align: top;\n",
       "    }\n",
       "</style>\n",
       "<table border=\"1\" class=\"dataframe\">\n",
       "  <thead>\n",
       "    <tr style=\"text-align: right;\">\n",
       "      <th></th>\n",
       "      <th>site</th>\n",
       "      <th>data_status</th>\n",
       "      <th>action_code</th>\n",
       "      <th>datetime</th>\n",
       "      <th>parameter</th>\n",
       "      <th>duration</th>\n",
       "      <th>frequency</th>\n",
       "      <th>value</th>\n",
       "      <th>unit</th>\n",
       "      <th>qc</th>\n",
       "      <th>poc</th>\n",
       "      <th>lat</th>\n",
       "      <th>lon</th>\n",
       "      <th>GISDatum</th>\n",
       "      <th>elev</th>\n",
       "      <th>method_code</th>\n",
       "      <th>mpc</th>\n",
       "      <th>mpc_value</th>\n",
       "      <th>uncertainty</th>\n",
       "      <th>qualifiers</th>\n",
       "    </tr>\n",
       "  </thead>\n",
       "  <tbody>\n",
       "    <tr>\n",
       "      <th>102244</th>\n",
       "      <td>840240053001</td>\n",
       "      <td>1.0</td>\n",
       "      <td>10.0</td>\n",
       "      <td>20160905T1100-0500</td>\n",
       "      <td>44201.0</td>\n",
       "      <td>60.0</td>\n",
       "      <td>0.0</td>\n",
       "      <td>0.037</td>\n",
       "      <td>7.0</td>\n",
       "      <td>0.0</td>\n",
       "      <td>1.0</td>\n",
       "      <td>39.310833</td>\n",
       "      <td>-76.474444</td>\n",
       "      <td>WGS84</td>\n",
       "      <td>5.0</td>\n",
       "      <td>87.0</td>\n",
       "      <td>1.0</td>\n",
       "      <td>0.005</td>\n",
       "      <td>NaN</td>\n",
       "      <td>NaN</td>\n",
       "    </tr>\n",
       "    <tr>\n",
       "      <th>102245</th>\n",
       "      <td>840240053001</td>\n",
       "      <td>1.0</td>\n",
       "      <td>10.0</td>\n",
       "      <td>20160905T1200-0500</td>\n",
       "      <td>44201.0</td>\n",
       "      <td>60.0</td>\n",
       "      <td>0.0</td>\n",
       "      <td>0.039</td>\n",
       "      <td>7.0</td>\n",
       "      <td>0.0</td>\n",
       "      <td>1.0</td>\n",
       "      <td>39.310833</td>\n",
       "      <td>-76.474444</td>\n",
       "      <td>WGS84</td>\n",
       "      <td>5.0</td>\n",
       "      <td>87.0</td>\n",
       "      <td>1.0</td>\n",
       "      <td>0.005</td>\n",
       "      <td>NaN</td>\n",
       "      <td>NaN</td>\n",
       "    </tr>\n",
       "    <tr>\n",
       "      <th>102246</th>\n",
       "      <td>840240053001</td>\n",
       "      <td>1.0</td>\n",
       "      <td>10.0</td>\n",
       "      <td>20160905T0900-0500</td>\n",
       "      <td>44201.0</td>\n",
       "      <td>60.0</td>\n",
       "      <td>0.0</td>\n",
       "      <td>0.034</td>\n",
       "      <td>7.0</td>\n",
       "      <td>0.0</td>\n",
       "      <td>1.0</td>\n",
       "      <td>39.310833</td>\n",
       "      <td>-76.474444</td>\n",
       "      <td>WGS84</td>\n",
       "      <td>5.0</td>\n",
       "      <td>87.0</td>\n",
       "      <td>1.0</td>\n",
       "      <td>0.005</td>\n",
       "      <td>NaN</td>\n",
       "      <td>NaN</td>\n",
       "    </tr>\n",
       "    <tr>\n",
       "      <th>102247</th>\n",
       "      <td>840240053001</td>\n",
       "      <td>1.0</td>\n",
       "      <td>10.0</td>\n",
       "      <td>20160905T0800-0500</td>\n",
       "      <td>44201.0</td>\n",
       "      <td>60.0</td>\n",
       "      <td>0.0</td>\n",
       "      <td>0.030</td>\n",
       "      <td>7.0</td>\n",
       "      <td>0.0</td>\n",
       "      <td>1.0</td>\n",
       "      <td>39.310833</td>\n",
       "      <td>-76.474444</td>\n",
       "      <td>WGS84</td>\n",
       "      <td>5.0</td>\n",
       "      <td>87.0</td>\n",
       "      <td>1.0</td>\n",
       "      <td>0.005</td>\n",
       "      <td>NaN</td>\n",
       "      <td>NaN</td>\n",
       "    </tr>\n",
       "    <tr>\n",
       "      <th>102248</th>\n",
       "      <td>END OF FILE</td>\n",
       "      <td>NaN</td>\n",
       "      <td>NaN</td>\n",
       "      <td>NaN</td>\n",
       "      <td>NaN</td>\n",
       "      <td>NaN</td>\n",
       "      <td>NaN</td>\n",
       "      <td>NaN</td>\n",
       "      <td>NaN</td>\n",
       "      <td>NaN</td>\n",
       "      <td>NaN</td>\n",
       "      <td>NaN</td>\n",
       "      <td>NaN</td>\n",
       "      <td>NaN</td>\n",
       "      <td>NaN</td>\n",
       "      <td>NaN</td>\n",
       "      <td>NaN</td>\n",
       "      <td>NaN</td>\n",
       "      <td>NaN</td>\n",
       "      <td>NaN</td>\n",
       "    </tr>\n",
       "  </tbody>\n",
       "</table>\n",
       "</div>"
      ],
      "text/plain": [
       "                site  data_status  action_code            datetime  parameter  \\\n",
       "102244  840240053001          1.0         10.0  20160905T1100-0500    44201.0   \n",
       "102245  840240053001          1.0         10.0  20160905T1200-0500    44201.0   \n",
       "102246  840240053001          1.0         10.0  20160905T0900-0500    44201.0   \n",
       "102247  840240053001          1.0         10.0  20160905T0800-0500    44201.0   \n",
       "102248   END OF FILE          NaN          NaN                 NaN        NaN   \n",
       "\n",
       "        duration  frequency  value  unit   qc  poc        lat        lon  \\\n",
       "102244      60.0        0.0  0.037   7.0  0.0  1.0  39.310833 -76.474444   \n",
       "102245      60.0        0.0  0.039   7.0  0.0  1.0  39.310833 -76.474444   \n",
       "102246      60.0        0.0  0.034   7.0  0.0  1.0  39.310833 -76.474444   \n",
       "102247      60.0        0.0  0.030   7.0  0.0  1.0  39.310833 -76.474444   \n",
       "102248       NaN        NaN    NaN   NaN  NaN  NaN        NaN        NaN   \n",
       "\n",
       "       GISDatum  elev  method_code  mpc  mpc_value  uncertainty qualifiers  \n",
       "102244    WGS84   5.0         87.0  1.0      0.005          NaN        NaN  \n",
       "102245    WGS84   5.0         87.0  1.0      0.005          NaN        NaN  \n",
       "102246    WGS84   5.0         87.0  1.0      0.005          NaN        NaN  \n",
       "102247    WGS84   5.0         87.0  1.0      0.005          NaN        NaN  \n",
       "102248      NaN   NaN          NaN  NaN        NaN          NaN        NaN  "
      ]
     },
     "execution_count": 31,
     "metadata": {},
     "output_type": "execute_result"
    }
   ],
   "source": [
    "o3.tail()"
   ]
  },
  {
   "cell_type": "code",
   "execution_count": 32,
   "metadata": {},
   "outputs": [
    {
     "data": {
      "text/plain": [
       "(102249, 20)"
      ]
     },
     "execution_count": 32,
     "metadata": {},
     "output_type": "execute_result"
    }
   ],
   "source": [
    "o3.shape"
   ]
  },
  {
   "cell_type": "code",
   "execution_count": 33,
   "metadata": {},
   "outputs": [
    {
     "name": "stdout",
     "output_type": "stream",
     "text": [
      "<class 'pandas.core.frame.DataFrame'>\n",
      "RangeIndex: 102249 entries, 0 to 102248\n",
      "Data columns (total 20 columns):\n",
      "site           102249 non-null object\n",
      "data_status    102248 non-null float64\n",
      "action_code    102248 non-null float64\n",
      "datetime       102248 non-null object\n",
      "parameter      102248 non-null float64\n",
      "duration       102248 non-null float64\n",
      "frequency      102248 non-null float64\n",
      "value          102248 non-null float64\n",
      "unit           102248 non-null float64\n",
      "qc             102248 non-null float64\n",
      "poc            102248 non-null float64\n",
      "lat            102248 non-null float64\n",
      "lon            102248 non-null float64\n",
      "GISDatum       102248 non-null object\n",
      "elev           102248 non-null float64\n",
      "method_code    102248 non-null float64\n",
      "mpc            102248 non-null float64\n",
      "mpc_value      102248 non-null float64\n",
      "uncertainty    0 non-null float64\n",
      "qualifiers     471 non-null object\n",
      "dtypes: float64(16), object(4)\n",
      "memory usage: 15.6+ MB\n"
     ]
    }
   ],
   "source": [
    "o3.info()"
   ]
  },
  {
   "cell_type": "code",
   "execution_count": 34,
   "metadata": {},
   "outputs": [
    {
     "data": {
      "text/plain": [
       "site                2\n",
       "data_status         2\n",
       "action_code         1\n",
       "datetime       102248\n",
       "parameter           1\n",
       "duration            1\n",
       "frequency           1\n",
       "value             126\n",
       "unit                1\n",
       "qc                  1\n",
       "poc                 1\n",
       "lat                 1\n",
       "lon                 1\n",
       "GISDatum            1\n",
       "elev                1\n",
       "method_code         2\n",
       "mpc                 1\n",
       "mpc_value           1\n",
       "uncertainty         0\n",
       "qualifiers          4\n",
       "dtype: int64"
      ]
     },
     "execution_count": 34,
     "metadata": {},
     "output_type": "execute_result"
    }
   ],
   "source": [
    "o3.nunique()"
   ]
  },
  {
   "cell_type": "markdown",
   "metadata": {
    "collapsed": true
   },
   "source": [
    "After the brief inspection, the dataframe was filtered so that only the `'datetime'` and `'value'` columns were selected."
   ]
  },
  {
   "cell_type": "code",
   "execution_count": 35,
   "metadata": {},
   "outputs": [
    {
     "data": {
      "text/html": [
       "<div>\n",
       "<style>\n",
       "    .dataframe thead tr:only-child th {\n",
       "        text-align: right;\n",
       "    }\n",
       "\n",
       "    .dataframe thead th {\n",
       "        text-align: left;\n",
       "    }\n",
       "\n",
       "    .dataframe tbody tr th {\n",
       "        vertical-align: top;\n",
       "    }\n",
       "</style>\n",
       "<table border=\"1\" class=\"dataframe\">\n",
       "  <thead>\n",
       "    <tr style=\"text-align: right;\">\n",
       "      <th></th>\n",
       "      <th>datetime</th>\n",
       "      <th>value</th>\n",
       "    </tr>\n",
       "  </thead>\n",
       "  <tbody>\n",
       "    <tr>\n",
       "      <th>0</th>\n",
       "      <td>20060101T2300-0500</td>\n",
       "      <td>0.002</td>\n",
       "    </tr>\n",
       "    <tr>\n",
       "      <th>1</th>\n",
       "      <td>20060101T2200-0500</td>\n",
       "      <td>0.001</td>\n",
       "    </tr>\n",
       "    <tr>\n",
       "      <th>2</th>\n",
       "      <td>20060101T0000-0500</td>\n",
       "      <td>0.001</td>\n",
       "    </tr>\n",
       "    <tr>\n",
       "      <th>3</th>\n",
       "      <td>20060101T2000-0500</td>\n",
       "      <td>0.003</td>\n",
       "    </tr>\n",
       "    <tr>\n",
       "      <th>4</th>\n",
       "      <td>20060101T1900-0500</td>\n",
       "      <td>0.002</td>\n",
       "    </tr>\n",
       "  </tbody>\n",
       "</table>\n",
       "</div>"
      ],
      "text/plain": [
       "             datetime  value\n",
       "0  20060101T2300-0500  0.002\n",
       "1  20060101T2200-0500  0.001\n",
       "2  20060101T0000-0500  0.001\n",
       "3  20060101T2000-0500  0.003\n",
       "4  20060101T1900-0500  0.002"
      ]
     },
     "execution_count": 35,
     "metadata": {},
     "output_type": "execute_result"
    }
   ],
   "source": [
    "#Filter ozone dataframe\n",
    "o3 = o3.loc[:, ['datetime', 'value']]\n",
    "o3.head()"
   ]
  },
  {
   "cell_type": "code",
   "execution_count": 36,
   "metadata": {},
   "outputs": [
    {
     "name": "stdout",
     "output_type": "stream",
     "text": [
      "<class 'pandas.core.frame.DataFrame'>\n",
      "RangeIndex: 102249 entries, 0 to 102248\n",
      "Data columns (total 2 columns):\n",
      "datetime    102248 non-null object\n",
      "value       102248 non-null float64\n",
      "dtypes: float64(1), object(1)\n",
      "memory usage: 1.6+ MB\n"
     ]
    }
   ],
   "source": [
    "o3.info()"
   ]
  },
  {
   "cell_type": "markdown",
   "metadata": {},
   "source": [
    "The `'datetime'` column still needed to be cleaned. The reported times were local, so no time zone needed to be assigned. After the `'datetime'` column was cleaned, it was ready to be converted to a datetime object."
   ]
  },
  {
   "cell_type": "code",
   "execution_count": 37,
   "metadata": {},
   "outputs": [
    {
     "data": {
      "text/html": [
       "<div>\n",
       "<style>\n",
       "    .dataframe thead tr:only-child th {\n",
       "        text-align: right;\n",
       "    }\n",
       "\n",
       "    .dataframe thead th {\n",
       "        text-align: left;\n",
       "    }\n",
       "\n",
       "    .dataframe tbody tr th {\n",
       "        vertical-align: top;\n",
       "    }\n",
       "</style>\n",
       "<table border=\"1\" class=\"dataframe\">\n",
       "  <thead>\n",
       "    <tr style=\"text-align: right;\">\n",
       "      <th></th>\n",
       "      <th>datetime</th>\n",
       "      <th>value</th>\n",
       "    </tr>\n",
       "  </thead>\n",
       "  <tbody>\n",
       "    <tr>\n",
       "      <th>0</th>\n",
       "      <td>2006-01-01 23:00:00</td>\n",
       "      <td>0.002</td>\n",
       "    </tr>\n",
       "    <tr>\n",
       "      <th>1</th>\n",
       "      <td>2006-01-01 22:00:00</td>\n",
       "      <td>0.001</td>\n",
       "    </tr>\n",
       "    <tr>\n",
       "      <th>2</th>\n",
       "      <td>2006-01-01 00:00:00</td>\n",
       "      <td>0.001</td>\n",
       "    </tr>\n",
       "    <tr>\n",
       "      <th>3</th>\n",
       "      <td>2006-01-01 20:00:00</td>\n",
       "      <td>0.003</td>\n",
       "    </tr>\n",
       "    <tr>\n",
       "      <th>4</th>\n",
       "      <td>2006-01-01 19:00:00</td>\n",
       "      <td>0.002</td>\n",
       "    </tr>\n",
       "  </tbody>\n",
       "</table>\n",
       "</div>"
      ],
      "text/plain": [
       "             datetime  value\n",
       "0 2006-01-01 23:00:00  0.002\n",
       "1 2006-01-01 22:00:00  0.001\n",
       "2 2006-01-01 00:00:00  0.001\n",
       "3 2006-01-01 20:00:00  0.003\n",
       "4 2006-01-01 19:00:00  0.002"
      ]
     },
     "execution_count": 37,
     "metadata": {},
     "output_type": "execute_result"
    }
   ],
   "source": [
    "#Clean 'datetime' column\n",
    "o3['datetime'] = o3.datetime.str.replace(\"T\",\" \")\n",
    "o3['datetime'] = o3.datetime.str.replace(\"-0500\",\"\")\n",
    "\n",
    "#Convert to datetime object\n",
    "o3['datetime'] = pd.to_datetime(o3.datetime)\n",
    "o3.head()"
   ]
  },
  {
   "cell_type": "markdown",
   "metadata": {},
   "source": [
    "The `datetime` values were then arranged in chronological order, and the index was set to that column."
   ]
  },
  {
   "cell_type": "code",
   "execution_count": 38,
   "metadata": {
    "collapsed": true
   },
   "outputs": [],
   "source": [
    "#Sort datetimes\n",
    "o3.sort_values('datetime', inplace = True)"
   ]
  },
  {
   "cell_type": "code",
   "execution_count": 39,
   "metadata": {
    "collapsed": true
   },
   "outputs": [],
   "source": [
    "#Set index to datetime column\n",
    "o3.set_index('datetime', inplace=True)"
   ]
  },
  {
   "cell_type": "code",
   "execution_count": 40,
   "metadata": {
    "collapsed": true
   },
   "outputs": [],
   "source": [
    "#Filter the data to match the time span of the weather data\n",
    "o3 = o3['2008-01-01':'2015-12-31']"
   ]
  },
  {
   "cell_type": "markdown",
   "metadata": {},
   "source": [
    "The `value` column was renamed to `ozone_ppm`, so that the column name could be more descriptive of the data. After the dataframe was confirmed to have no missing values, the ozone data was merged with the weather data into the dataframe `df`."
   ]
  },
  {
   "cell_type": "code",
   "execution_count": 41,
   "metadata": {
    "collapsed": true
   },
   "outputs": [],
   "source": [
    "#Rename 'value' column\n",
    "o3.rename(columns = {'value':'ozone_ppm'}, inplace = True)"
   ]
  },
  {
   "cell_type": "code",
   "execution_count": 42,
   "metadata": {},
   "outputs": [
    {
     "data": {
      "text/html": [
       "<div>\n",
       "<style>\n",
       "    .dataframe thead tr:only-child th {\n",
       "        text-align: right;\n",
       "    }\n",
       "\n",
       "    .dataframe thead th {\n",
       "        text-align: left;\n",
       "    }\n",
       "\n",
       "    .dataframe tbody tr th {\n",
       "        vertical-align: top;\n",
       "    }\n",
       "</style>\n",
       "<table border=\"1\" class=\"dataframe\">\n",
       "  <thead>\n",
       "    <tr style=\"text-align: right;\">\n",
       "      <th></th>\n",
       "      <th>ozone_ppm</th>\n",
       "    </tr>\n",
       "    <tr>\n",
       "      <th>datetime</th>\n",
       "      <th></th>\n",
       "    </tr>\n",
       "  </thead>\n",
       "  <tbody>\n",
       "    <tr>\n",
       "      <th>2008-01-01 00:00:00</th>\n",
       "      <td>0.019</td>\n",
       "    </tr>\n",
       "    <tr>\n",
       "      <th>2008-01-01 01:00:00</th>\n",
       "      <td>0.020</td>\n",
       "    </tr>\n",
       "    <tr>\n",
       "      <th>2008-01-01 02:00:00</th>\n",
       "      <td>0.020</td>\n",
       "    </tr>\n",
       "    <tr>\n",
       "      <th>2008-01-01 03:00:00</th>\n",
       "      <td>0.019</td>\n",
       "    </tr>\n",
       "    <tr>\n",
       "      <th>2008-01-01 04:00:00</th>\n",
       "      <td>0.019</td>\n",
       "    </tr>\n",
       "  </tbody>\n",
       "</table>\n",
       "</div>"
      ],
      "text/plain": [
       "                     ozone_ppm\n",
       "datetime                      \n",
       "2008-01-01 00:00:00      0.019\n",
       "2008-01-01 01:00:00      0.020\n",
       "2008-01-01 02:00:00      0.020\n",
       "2008-01-01 03:00:00      0.019\n",
       "2008-01-01 04:00:00      0.019"
      ]
     },
     "execution_count": 42,
     "metadata": {},
     "output_type": "execute_result"
    }
   ],
   "source": [
    "o3.head()"
   ]
  },
  {
   "cell_type": "code",
   "execution_count": 43,
   "metadata": {},
   "outputs": [
    {
     "name": "stdout",
     "output_type": "stream",
     "text": [
      "Number of missing values for each variable:\n",
      "ozone_ppm    0\n",
      "dtype: int64\n"
     ]
    }
   ],
   "source": [
    "#Confirm no missing values\n",
    "print 'Number of missing values for each variable:'\n",
    "print(o3.isnull().sum())"
   ]
  },
  {
   "cell_type": "code",
   "execution_count": 44,
   "metadata": {
    "collapsed": true
   },
   "outputs": [],
   "source": [
    "#Merge dataframes by index\n",
    "df = o3.join(wx)"
   ]
  },
  {
   "cell_type": "markdown",
   "metadata": {
    "collapsed": true
   },
   "source": [
    "After the merge, the new dataframe `df` was confirmed to have no missing values, and was pickled so it could easily be loaded again in another notebook. The data wrangling is now complete."
   ]
  },
  {
   "cell_type": "code",
   "execution_count": 45,
   "metadata": {},
   "outputs": [
    {
     "name": "stdout",
     "output_type": "stream",
     "text": [
      "Number of missing values for each variable:\n",
      "ozone_ppm    0\n",
      "SPD          0\n",
      "VSB          0\n",
      "TEMP         0\n",
      "DEWP         0\n",
      "STP          0\n",
      "dtype: int64\n"
     ]
    }
   ],
   "source": [
    "#Confirm no missing values in joint dataframe\n",
    "print 'Number of missing values for each variable:'\n",
    "print(df.isnull().sum())"
   ]
  },
  {
   "cell_type": "code",
   "execution_count": 46,
   "metadata": {
    "collapsed": true
   },
   "outputs": [],
   "source": [
    "#pickle the data\n",
    "df.to_pickle('weather_ozone')"
   ]
  }
 ],
 "metadata": {
  "kernelspec": {
   "display_name": "Python 2",
   "language": "python",
   "name": "python2"
  },
  "language_info": {
   "codemirror_mode": {
    "name": "ipython",
    "version": 2
   },
   "file_extension": ".py",
   "mimetype": "text/x-python",
   "name": "python",
   "nbconvert_exporter": "python",
   "pygments_lexer": "ipython2",
   "version": "2.7.13"
  }
 },
 "nbformat": 4,
 "nbformat_minor": 2
}
