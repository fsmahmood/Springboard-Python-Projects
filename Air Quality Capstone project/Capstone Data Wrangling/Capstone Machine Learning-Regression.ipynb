{
 "cells": [
  {
   "cell_type": "markdown",
   "metadata": {},
   "source": [
    "Multiple years, multiple months. Make a prediction for the very last month and last year. Don't do train/test split.\n",
    "Pick training and test sets by hand. The idea of a baseline is to build the simplest model possible, that can give good information. According to plan, do the train/test split accordingly. \n",
    "\n",
    "Full dataset. Training set is everything except the last month. \n",
    "Training set = Jan 2008 to November 2015. Test set = December 2015.\n",
    "\n",
    "Then build your linear regression with all your variables, do L1 and L2 regularization. Always compare training performance vs test performance. Compute R-squared and RMSE. When you're done with that, have a meeting and see the results, and decide what to do next.\n",
    "\n",
    "L1 = Lasso\n",
    "L2 = Ridge\n",
    "\n",
    "Compare training performance vs test performance. R-squared and RMSE for both.\n",
    "\n",
    "ALSO, \n",
    "\n",
    "Do the residual analysis. The idea is to compute all the residuals of the test set. Plot a histogram of those residuals. For both the L1 and L2 regularizations, do one histogram for each. Histogram plots frequency of residual values. Ideally it would be normally distributed. Compare actual vs predicted in the test set. \n",
    "\n",
    "IF going deeper, you can do margin of error for residuals."
   ]
  },
  {
   "cell_type": "code",
   "execution_count": 1,
   "metadata": {
    "collapsed": true
   },
   "outputs": [],
   "source": [
    "%matplotlib inline \n",
    "\n",
    "import numpy as np\n",
    "import pandas as pd\n",
    "import scipy.stats as stats\n",
    "import matplotlib.pyplot as plt\n",
    "import sklearn\n",
    "import datetime\n",
    "import pickle\n",
    "import seaborn as sns"
   ]
  },
  {
   "cell_type": "code",
   "execution_count": 2,
   "metadata": {},
   "outputs": [
    {
     "data": {
      "text/html": [
       "<div>\n",
       "<style>\n",
       "    .dataframe thead tr:only-child th {\n",
       "        text-align: right;\n",
       "    }\n",
       "\n",
       "    .dataframe thead th {\n",
       "        text-align: left;\n",
       "    }\n",
       "\n",
       "    .dataframe tbody tr th {\n",
       "        vertical-align: top;\n",
       "    }\n",
       "</style>\n",
       "<table border=\"1\" class=\"dataframe\">\n",
       "  <thead>\n",
       "    <tr style=\"text-align: right;\">\n",
       "      <th></th>\n",
       "      <th>ozone_ppm</th>\n",
       "      <th>SPD</th>\n",
       "      <th>VSB</th>\n",
       "      <th>TEMP</th>\n",
       "      <th>DEWP</th>\n",
       "      <th>STP</th>\n",
       "    </tr>\n",
       "    <tr>\n",
       "      <th>datetime</th>\n",
       "      <th></th>\n",
       "      <th></th>\n",
       "      <th></th>\n",
       "      <th></th>\n",
       "      <th></th>\n",
       "      <th></th>\n",
       "    </tr>\n",
       "  </thead>\n",
       "  <tbody>\n",
       "    <tr>\n",
       "      <th>2008-01-01 00:00:00</th>\n",
       "      <td>0.019</td>\n",
       "      <td>8</td>\n",
       "      <td>10.0</td>\n",
       "      <td>41</td>\n",
       "      <td>39</td>\n",
       "      <td>1018.1</td>\n",
       "    </tr>\n",
       "    <tr>\n",
       "      <th>2008-01-01 01:00:00</th>\n",
       "      <td>0.020</td>\n",
       "      <td>8</td>\n",
       "      <td>10.0</td>\n",
       "      <td>41</td>\n",
       "      <td>41</td>\n",
       "      <td>1017.2</td>\n",
       "    </tr>\n",
       "    <tr>\n",
       "      <th>2008-01-01 02:00:00</th>\n",
       "      <td>0.020</td>\n",
       "      <td>8</td>\n",
       "      <td>10.0</td>\n",
       "      <td>42</td>\n",
       "      <td>41</td>\n",
       "      <td>1016.5</td>\n",
       "    </tr>\n",
       "    <tr>\n",
       "      <th>2008-01-01 03:00:00</th>\n",
       "      <td>0.019</td>\n",
       "      <td>12</td>\n",
       "      <td>10.0</td>\n",
       "      <td>43</td>\n",
       "      <td>41</td>\n",
       "      <td>1015.0</td>\n",
       "    </tr>\n",
       "    <tr>\n",
       "      <th>2008-01-01 04:00:00</th>\n",
       "      <td>0.019</td>\n",
       "      <td>13</td>\n",
       "      <td>10.0</td>\n",
       "      <td>43</td>\n",
       "      <td>42</td>\n",
       "      <td>1014.2</td>\n",
       "    </tr>\n",
       "  </tbody>\n",
       "</table>\n",
       "</div>"
      ],
      "text/plain": [
       "                     ozone_ppm  SPD   VSB  TEMP  DEWP     STP\n",
       "datetime                                                     \n",
       "2008-01-01 00:00:00      0.019    8  10.0    41    39  1018.1\n",
       "2008-01-01 01:00:00      0.020    8  10.0    41    41  1017.2\n",
       "2008-01-01 02:00:00      0.020    8  10.0    42    41  1016.5\n",
       "2008-01-01 03:00:00      0.019   12  10.0    43    41  1015.0\n",
       "2008-01-01 04:00:00      0.019   13  10.0    43    42  1014.2"
      ]
     },
     "execution_count": 2,
     "metadata": {},
     "output_type": "execute_result"
    }
   ],
   "source": [
    "df = pd.read_pickle('weather_ozone')\n",
    "df.head()"
   ]
  },
  {
   "cell_type": "code",
   "execution_count": 3,
   "metadata": {},
   "outputs": [
    {
     "name": "stdout",
     "output_type": "stream",
     "text": [
      "('Train Dataset:', (67579, 6))\n",
      "('Test Dataset:', (742, 6))\n"
     ]
    }
   ],
   "source": [
    "#Split to training and test sets\n",
    "train = df['2008-01-01':'2015-11-30']\n",
    "test  = df['2015-12-01':]\n",
    "print('Train Dataset:',train.shape)\n",
    "print('Test Dataset:',test.shape)"
   ]
  },
  {
   "cell_type": "code",
   "execution_count": 4,
   "metadata": {
    "collapsed": true
   },
   "outputs": [],
   "source": [
    "#Define variables for training set\n",
    "from sklearn.linear_model import LinearRegression\n",
    "from sklearn.metrics import mean_squared_error\n",
    "from sklearn.metrics import accuracy_score\n",
    "from sklearn.metrics import mean_absolute_error\n",
    "\n",
    "X_train = train.drop('ozone_ppm', axis=1).values\n",
    "y_train = train.ozone_ppm.values"
   ]
  },
  {
   "cell_type": "code",
   "execution_count": 5,
   "metadata": {},
   "outputs": [
    {
     "data": {
      "text/plain": [
       "LinearRegression(copy_X=True, fit_intercept=True, n_jobs=1, normalize=False)"
      ]
     },
     "execution_count": 5,
     "metadata": {},
     "output_type": "execute_result"
    }
   ],
   "source": [
    "#Create regressor\n",
    "lm = LinearRegression()\n",
    "# Fit the regressor to the training data\n",
    "lm.fit(X_train, y_train)"
   ]
  },
  {
   "cell_type": "code",
   "execution_count": 6,
   "metadata": {},
   "outputs": [
    {
     "name": "stdout",
     "output_type": "stream",
     "text": [
      "Training set accuracy scores:\n",
      "\n",
      "R^2: 0.582197679433\n",
      "Root Mean Squared Error: 0.0113865390885\n",
      "Mean Absolute Error: 0.00903829888978\n"
     ]
    }
   ],
   "source": [
    "#Training set\n",
    "print \"Training set accuracy scores:\"\n",
    "print ''\n",
    "y_pred_train = lm.predict(X_train)\n",
    "print(\"R^2: {}\".format(lm.score(X_train, y_train)))\n",
    "rmse = np.sqrt(mean_squared_error(y_train, y_pred_train))\n",
    "print(\"Root Mean Squared Error: {}\".format(rmse))\n",
    "mae = mean_absolute_error(y_train, y_pred_train)\n",
    "print(\"Mean Absolute Error: {}\".format(mae))"
   ]
  },
  {
   "cell_type": "code",
   "execution_count": 7,
   "metadata": {
    "collapsed": true
   },
   "outputs": [],
   "source": [
    "#Define variables for testing set\n",
    "X_test = test.drop('ozone_ppm', axis=1).values\n",
    "y_test = test.ozone_ppm.values"
   ]
  },
  {
   "cell_type": "code",
   "execution_count": 8,
   "metadata": {
    "collapsed": true
   },
   "outputs": [],
   "source": [
    "# Predict on the test data\n",
    "y_pred_test = lm.predict(X_test)"
   ]
  },
  {
   "cell_type": "code",
   "execution_count": 9,
   "metadata": {},
   "outputs": [
    {
     "name": "stdout",
     "output_type": "stream",
     "text": [
      "Test set accuracy scores:\n",
      "\n",
      "R^2: 0.0432025252226\n",
      "Root Mean Squared Error: 0.00903532790804\n",
      "Mean Absolute Error: 0.00742406213061\n"
     ]
    }
   ],
   "source": [
    "#Test set\n",
    "print \"Test set accuracy scores:\"\n",
    "print ''\n",
    "print(\"R^2: {}\".format(lm.score(X_test, y_test)))\n",
    "rmse = np.sqrt(mean_squared_error(y_test, y_pred_test))\n",
    "print(\"Root Mean Squared Error: {}\".format(rmse))\n",
    "mae = mean_absolute_error(y_test, y_pred_test)\n",
    "print(\"Mean Absolute Error: {}\".format(mae))\n",
    "#MEAN ABSOLUTE ERROR TOO\n",
    "#GridSearchCV for Lasso/Ridge\n"
   ]
  },
  {
   "cell_type": "code",
   "execution_count": 10,
   "metadata": {},
   "outputs": [
    {
     "name": "stdout",
     "output_type": "stream",
     "text": [
      "Lasso regularization scores for training set:\n",
      "\n",
      "R^2 is 0.582198 when alpha =  1e-15\n",
      "R^2 is 0.582198 when alpha =  1e-10\n",
      "R^2 is 0.582197 when alpha =  1e-08\n",
      "R^2 is 0.426375 when alpha =  1e-05\n",
      "R^2 is 0.000000 when alpha =  0.0001\n",
      "R^2 is 0.000000 when alpha =  0.001\n",
      "R^2 is 0.000000 when alpha =  0.01\n",
      "R^2 is 0.000000 when alpha =  1\n",
      "R^2 is 0.000000 when alpha =  5\n",
      "R^2 is 0.000000 when alpha =  10\n",
      "R^2 is 0.000000 when alpha =  100\n"
     ]
    }
   ],
   "source": [
    "from sklearn.linear_model import Lasso\n",
    "from sklearn.model_selection import GridSearchCV\n",
    "\n",
    "print \"Lasso regularization scores for training set:\"\n",
    "print ''\n",
    "alpha_L = [1e-15, 1e-10, 1e-8, 1e-5, 1e-4, 1e-3, 1e-2, 1, 5, 10, 100]\n",
    "for alpha in alpha_L:\n",
    "    lasso = Lasso(alpha=alpha, normalize=True)\n",
    "    lasso.fit(X_train, y_train)\n",
    "    score = lasso.score(X_train, y_train)\n",
    "    print \"R^2 is %f when alpha = \"%score,alpha"
   ]
  },
  {
   "cell_type": "code",
   "execution_count": 11,
   "metadata": {},
   "outputs": [
    {
     "name": "stdout",
     "output_type": "stream",
     "text": [
      "Lasso regularization scores for test set:\n",
      "\n",
      "R^2 is 0.584030 when alpha =  1e-15\n",
      "R^2 is 0.584030 when alpha =  1e-10\n",
      "R^2 is 0.584029 when alpha =  1e-08\n",
      "R^2 is 0.566451 when alpha =  1e-05\n",
      "R^2 is 0.397157 when alpha =  0.0001\n",
      "R^2 is 0.000000 when alpha =  0.001\n",
      "R^2 is 0.000000 when alpha =  0.01\n",
      "R^2 is 0.000000 when alpha =  1\n",
      "R^2 is 0.000000 when alpha =  5\n",
      "R^2 is 0.000000 when alpha =  10\n",
      "R^2 is 0.000000 when alpha =  100\n"
     ]
    }
   ],
   "source": [
    "print \"Lasso regularization scores for test set:\"\n",
    "print ''\n",
    "alpha_L = [1e-15, 1e-10, 1e-8, 1e-5, 1e-4, 1e-3, 1e-2, 1, 5, 10, 100]\n",
    "for alpha in alpha_L:\n",
    "    lasso = Lasso(alpha=alpha, normalize=True)\n",
    "    lasso.fit(X_test, y_test)\n",
    "    score = lasso.score(X_test, y_test)\n",
    "    print \"R^2 is %f when alpha = \"%score,alpha"
   ]
  },
  {
   "cell_type": "code",
   "execution_count": 12,
   "metadata": {},
   "outputs": [
    {
     "name": "stdout",
     "output_type": "stream",
     "text": [
      "Ridge regularization scores for training set:\n",
      "\n",
      "R^2 is 0.582198 when alpha =  1e-15\n",
      "R^2 is 0.582198 when alpha =  1e-10\n",
      "R^2 is 0.582198 when alpha =  1e-08\n",
      "R^2 is 0.582198 when alpha =  1e-05\n",
      "R^2 is 0.582197 when alpha =  0.0001\n",
      "R^2 is 0.582157 when alpha =  0.001\n",
      "R^2 is 0.579106 when alpha =  0.01\n",
      "R^2 is 0.359387 when alpha =  1\n",
      "R^2 is 0.162587 when alpha =  5\n",
      "R^2 is 0.096527 when alpha =  10\n",
      "R^2 is 0.011614 when alpha =  100\n"
     ]
    }
   ],
   "source": [
    "from sklearn.linear_model import Ridge\n",
    "\n",
    "print \"Ridge regularization scores for training set:\"\n",
    "print ''\n",
    "alpha_L = [1e-15, 1e-10, 1e-8, 1e-5, 1e-4, 1e-3, 1e-2, 1, 5, 10, 100]\n",
    "for alpha in alpha_L:\n",
    "    ridge = Ridge(alpha=alpha, normalize=True)\n",
    "    ridge.fit(X_train, y_train)\n",
    "    score = ridge.score(X_train, y_train)\n",
    "    print \"R^2 is %f when alpha = \"%score,alpha"
   ]
  },
  {
   "cell_type": "code",
   "execution_count": 13,
   "metadata": {},
   "outputs": [
    {
     "name": "stdout",
     "output_type": "stream",
     "text": [
      "Ridge regularization scores for test set:\n",
      "\n",
      "R^2 is 0.584030 when alpha =  1e-15\n",
      "R^2 is 0.584030 when alpha =  1e-10\n",
      "R^2 is 0.584030 when alpha =  1e-08\n",
      "R^2 is 0.584030 when alpha =  1e-05\n",
      "R^2 is 0.584029 when alpha =  0.0001\n",
      "R^2 is 0.584022 when alpha =  0.001\n",
      "R^2 is 0.583441 when alpha =  0.01\n",
      "R^2 is 0.422163 when alpha =  1\n",
      "R^2 is 0.190086 when alpha =  5\n",
      "R^2 is 0.112188 when alpha =  10\n",
      "R^2 is 0.013367 when alpha =  100\n"
     ]
    }
   ],
   "source": [
    "print \"Ridge regularization scores for test set:\"\n",
    "print ''\n",
    "alpha_L = [1e-15, 1e-10, 1e-8, 1e-5, 1e-4, 1e-3, 1e-2, 1, 5, 10, 100]\n",
    "for alpha in alpha_L:\n",
    "    ridge = Ridge(alpha=alpha, normalize=True)\n",
    "    ridge.fit(X_test, y_test)\n",
    "    score = ridge.score(X_test, y_test)\n",
    "    print \"R^2 is %f when alpha = \"%score,alpha"
   ]
  }
 ],
 "metadata": {
  "kernelspec": {
   "display_name": "Python 2",
   "language": "python",
   "name": "python2"
  },
  "language_info": {
   "codemirror_mode": {
    "name": "ipython",
    "version": 2
   },
   "file_extension": ".py",
   "mimetype": "text/x-python",
   "name": "python",
   "nbconvert_exporter": "python",
   "pygments_lexer": "ipython2",
   "version": "2.7.13"
  }
 },
 "nbformat": 4,
 "nbformat_minor": 2
}
